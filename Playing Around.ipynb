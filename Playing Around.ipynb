{
 "cells": [
  {
   "cell_type": "markdown",
   "metadata": {},
   "source": [
    "# Imports"
   ]
  },
  {
   "cell_type": "code",
   "execution_count": null,
   "metadata": {},
   "outputs": [],
   "source": [
    "import git\n",
    "from git import Repo\n",
    "\n",
    "from unidiff import PatchSet\n",
    "\n",
    "import subprocess\n",
    "import json\n",
    "import pandas as pd\n",
    "import numpy as np"
   ]
  },
  {
   "cell_type": "code",
   "execution_count": null,
   "metadata": {},
   "outputs": [],
   "source": [
    "class ChangedFile:\n",
    "    def __init__(self, mutant_id = -1, modified_file_path = '', line_number_changed = -1, previous_line = '', current_line = ''):\n",
    "        self.modified_file_path = modified_file_path\n",
    "        self.line_number_changed = line_number_changed\n",
    "        self.previous_line = previous_line\n",
    "        self.current_line = current_line\n",
    "        self.mutant_id = mutant_id\n",
    "    def __str__(self):\n",
    "        return \"Mutant ID:\" + mutant_id + \"\\nModified file: \"+ self.modified_file_path + \"\\n  Line number: \" + str(self.line_number_changed) + \"\\nPrevious Line: \" + self.previous_line + \" Current line: \" + self.current_line"
   ]
  },
  {
   "cell_type": "code",
   "execution_count": null,
   "metadata": {},
   "outputs": [],
   "source": [
    "def generate_repo_diff_data(repo: Repo, mutant_id=-1):\n",
    "    current_diff = repo.index.diff(None)\n",
    "    diff = repo.git.diff(repo.head, None)\n",
    "    patchset = PatchSet(diff)\n",
    "    \n",
    "    print(patchset[0].target_file)\n",
    "    modified_file_path = patchset[0].target_file[2:] # Remove b/ from the path\n",
    "    changed_sourcecode_line = patchset[0][0].source_start\n",
    "    previous_line = ''\n",
    "    change_to_line = ''\n",
    "    for line in patchset[0][0]:\n",
    "        if line.is_added:\n",
    "            changed_to_line = str(line)[2:]\n",
    "        if line.is_removed:\n",
    "            previous_line = str(line)[2:]\n",
    "    \n",
    "    return ChangedFile(mutant_id, modified_file_path, changed_sourcecode_line, previous_line, changed_to_line)\n",
    "\n",
    "#print(analyze_change_in_working_directory(repo).__dict__)"
   ]
  },
  {
   "cell_type": "code",
   "execution_count": null,
   "metadata": {
    "scrolled": true
   },
   "outputs": [],
   "source": [
    "def generate_test_data(mutant_id=-1):\n",
    "    with open('repos/flask/report.json') as json_file:\n",
    "        data = json.load(json_file)[\"report\"]\n",
    "#         print(json.dumps(data, indent=2))\n",
    "        test_runs = []\n",
    "        for test in data[\"tests\"]:\n",
    "            outcome = True\n",
    "            if test[\"outcome\"] == \"failed\":\n",
    "                outcome = False\n",
    "            test_runs.append({'test_id': test[\"run_index\"], 'mutant_id': mutant_id, 'outcome': outcome})\n",
    "        return test_runs\n",
    "        \n",
    "        \n",
    "        \n",
    "        \n",
    "analyze_test_failures()"
   ]
  },
  {
   "cell_type": "code",
   "execution_count": null,
   "metadata": {},
   "outputs": [],
   "source": [
    "!cd repos/flask/ && pytest --json=report.json"
   ]
  },
  {
   "cell_type": "code",
   "execution_count": null,
   "metadata": {},
   "outputs": [],
   "source": [
    "mutants = pd.DataFrame(columns=['mutant_id','modified_file_path','line_number_changed','previous_line', 'current_line'])\n",
    "mutants\n",
    "test_runs = pd.DataFrame(columns=['test_id', 'mutant_id', 'outcome'])\n",
    "\n",
    "\"failed\" == \"failed\""
   ]
  },
  {
   "cell_type": "code",
   "execution_count": null,
   "metadata": {
    "scrolled": true
   },
   "outputs": [],
   "source": [
    "def analyze_mutant(*,mutant_id):\n",
    "    repo = Repo(\"repos/flask\")\n",
    "    assert not repo.bare\n",
    "    !echo Switching to Mutant $mutant_id\n",
    "    !cd repos/flask/ && mutmut apply $mutant_id && pytest -k \"test_url\" --json=report.json > /dev/null\n",
    "    changed_file = generate_repo_diff_data(repo= repo, mutant_id=mutant_id)\n",
    "    tests = generate_test_data(mutant_id=mutant_id)\n",
    "    \n",
    "    # Cleanup logic:\n",
    "    !cd repos/flask/ && git checkout .\n",
    "    !rm repos/flask/report.json\n",
    "    \n",
    "    return {\"changed_file\": changed_file, \"tests\": tests}\n",
    "    \n",
    "analyze_mutant(mutant_id=1)"
   ]
  },
  {
   "cell_type": "code",
   "execution_count": null,
   "metadata": {
    "scrolled": true
   },
   "outputs": [],
   "source": [
    "tests = pd.DataFrame()\n",
    "mutants = pd.DataFrame()\n",
    "\n",
    "for mutant_id in range(2, 10):\n",
    "    result = analyze_mutant(mutant_id=mutant_id)\n",
    "    tests = tests.append(result[\"tests\"])\n",
    "    mutants = mutants.append(result[\"changed_file\"].__dict__, ignore_index=True)\n"
   ]
  },
  {
   "cell_type": "code",
   "execution_count": null,
   "metadata": {
    "scrolled": true
   },
   "outputs": [],
   "source": [
    "mutants"
   ]
  },
  {
   "cell_type": "code",
   "execution_count": null,
   "metadata": {
    "scrolled": true
   },
   "outputs": [],
   "source": [
    "tests"
   ]
  },
  {
   "cell_type": "code",
   "execution_count": null,
   "metadata": {},
   "outputs": [],
   "source": [
    "mutants_and_tests = mutants.set_index('mutant_id').join(tests.set_index('mutant_id'))\n",
    "mutants_and_tests"
   ]
  },
  {
   "cell_type": "code",
   "execution_count": null,
   "metadata": {
    "scrolled": true
   },
   "outputs": [],
   "source": [
    "mutants_and_tests.groupby(['test_id','outcome']).count()\n"
   ]
  }
 ],
 "metadata": {
  "kernelspec": {
   "display_name": "Python 3",
   "language": "python",
   "name": "python3"
  },
  "language_info": {
   "codemirror_mode": {
    "name": "ipython",
    "version": 3
   },
   "file_extension": ".py",
   "mimetype": "text/x-python",
   "name": "python",
   "nbconvert_exporter": "python",
   "pygments_lexer": "ipython3",
   "version": "3.8.2"
  }
 },
 "nbformat": 4,
 "nbformat_minor": 2
}
