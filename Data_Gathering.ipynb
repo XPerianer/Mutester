{
 "cells": [
  {
   "cell_type": "markdown",
   "metadata": {},
   "source": [
    "# Imports"
   ]
  },
  {
   "cell_type": "code",
   "execution_count": 2,
   "metadata": {},
   "outputs": [],
   "source": [
    "import git\n",
    "from git import Repo\n",
    "\n",
    "from unidiff import PatchSet\n",
    "\n",
    "import subprocess\n",
    "import json\n",
    "import pandas as pd\n",
    "import numpy as np\n",
    "import matplotlib\n",
    "import sys\n",
    "import matplotlib.pyplot as plt"
   ]
  },
  {
   "cell_type": "code",
   "execution_count": 3,
   "metadata": {},
   "outputs": [
    {
     "ename": "ModuleNotFoundError",
     "evalue": "No module named 'src.test'",
     "output_type": "error",
     "traceback": [
      "\u001B[0;31m---------------------------------------------------------------------------\u001B[0m",
      "\u001B[0;31mModuleNotFoundError\u001B[0m                       Traceback (most recent call last)",
      "\u001B[0;32m<ipython-input-3-fdc24559234f>\u001B[0m in \u001B[0;36m<module>\u001B[0;34m\u001B[0m\n\u001B[1;32m      2\u001B[0m \u001B[0;34m\u001B[0m\u001B[0m\n\u001B[1;32m      3\u001B[0m \u001B[0;32mfrom\u001B[0m \u001B[0msrc\u001B[0m\u001B[0;34m.\u001B[0m\u001B[0mmutant\u001B[0m \u001B[0;32mimport\u001B[0m \u001B[0mMutant\u001B[0m\u001B[0;34m\u001B[0m\u001B[0;34m\u001B[0m\u001B[0m\n\u001B[0;32m----> 4\u001B[0;31m \u001B[0;32mfrom\u001B[0m \u001B[0msrc\u001B[0m\u001B[0;34m.\u001B[0m\u001B[0mtest\u001B[0m \u001B[0;32mimport\u001B[0m \u001B[0mTest\u001B[0m\u001B[0;34m\u001B[0m\u001B[0;34m\u001B[0m\u001B[0m\n\u001B[0m\u001B[1;32m      5\u001B[0m \u001B[0;34m\u001B[0m\u001B[0m\n\u001B[1;32m      6\u001B[0m \u001B[0;34m\u001B[0m\u001B[0m\n",
      "\u001B[0;31mModuleNotFoundError\u001B[0m: No module named 'src.test'"
     ]
    }
   ],
   "source": [
    "from dataclasses import dataclass\n",
    "\n",
    "from src.mutant import Mutant\n",
    "from src.test import Test\n",
    "\n",
    "\n"
   ]
  },
  {
   "cell_type": "code",
   "execution_count": 243,
   "metadata": {},
   "outputs": [],
   "source": [
    "def generate_repo_diff_data(repo: Repo, mutant_id=-1):\n",
    "    current_diff = repo.index.diff(None)\n",
    "    diff = repo.git.diff(repo.head, None)\n",
    "    patchset = PatchSet(diff)\n",
    "    \n",
    "    print(patchset[0].target_file)\n",
    "    modified_file_path = patchset[0].target_file[2:] # Remove b/ from the path\n",
    "    changed_sourcecode_line = patchset[0][0].source_start\n",
    "    previous_line = ''\n",
    "    change_to_line = ''\n",
    "    for line in patchset[0][0]:\n",
    "        if line.is_added:\n",
    "            changed_to_line = str(line)[2:]\n",
    "        if line.is_removed:\n",
    "            previous_line = str(line)[2:]\n",
    "    \n",
    "    return Mutant(mutant_id, modified_file_path, changed_sourcecode_line, previous_line, changed_to_line)\n",
    "\n",
    "#print(analyze_change_in_working_directory(repo).__dict__)"
   ]
  },
  {
   "cell_type": "code",
   "execution_count": 244,
   "metadata": {
    "scrolled": true
   },
   "outputs": [],
   "source": [
    "def generate_test_data(mutant_id=-1):\n",
    "    with open('repos/flask/report.json') as json_file:\n",
    "        data = json.load(json_file)[\"report\"]\n",
    "#         print(json.dumps(data, indent=2))\n",
    "        test_runs = []\n",
    "        for json_test in data[\"tests\"]:\n",
    "             test_runs.append(Test.fromJson(json_test))\n",
    "        return test_runs\n",
    "        "
   ]
  },
  {
   "cell_type": "code",
   "execution_count": 250,
   "metadata": {},
   "outputs": [
    {
     "name": "stdout",
     "output_type": "stream",
     "text": [
      "\u001B[1m============================= test session starts ==============================\u001B[0m\n",
      "platform linux -- Python 3.8.1, pytest-5.4.2, py-1.8.1, pluggy-0.13.1\n",
      "rootdir: /mnt/brick/home/dmeier/CRM2020/repos/flask, inifile: setup.cfg, testpaths: tests\n",
      "plugins: timeout-1.3.4, json-report-1.2.1, json-0.4.0, metadata-1.9.0\n",
      "timeout: 300.0s\n",
      "timeout method: signal\n",
      "timeout func_only: False\n",
      "collected 468 items                                                            \u001B[0m\n",
      "\n",
      "tests/test_appctx.py \u001B[32m.\u001B[0m\u001B[32m.\u001B[0m\u001B[32m.\u001B[0m\u001B[32m.\u001B[0m\u001B[32m.\u001B[0m\u001B[32m.\u001B[0m\u001B[32m.\u001B[0m\u001B[32m.\u001B[0m\u001B[32m.\u001B[0m\u001B[32m.\u001B[0m\u001B[32m.\u001B[0m\u001B[32m.\u001B[0m\u001B[32m.\u001B[0m\u001B[32m.\u001B[0m\u001B[32m                                      [  2%]\u001B[0m\n",
      "tests/test_basic.py \u001B[32m.\u001B[0m\u001B[32m.\u001B[0m\u001B[32m.\u001B[0m\u001B[32m.\u001B[0m\u001B[32m.\u001B[0m\u001B[32m.\u001B[0m\u001B[32m.\u001B[0m\u001B[32m.\u001B[0m\u001B[32m.\u001B[0m\u001B[32m.\u001B[0m\u001B[32m.\u001B[0m\u001B[32m.\u001B[0m\u001B[32m.\u001B[0m\u001B[32m.\u001B[0m\u001B[32m.\u001B[0m\u001B[32m.\u001B[0m\u001B[32m.\u001B[0m\u001B[32m.\u001B[0m\u001B[32m.\u001B[0m\u001B[32m.\u001B[0m\u001B[32m.\u001B[0m\u001B[32m.\u001B[0m\u001B[32m.\u001B[0m\u001B[32m.\u001B[0m\u001B[32m.\u001B[0m\u001B[32m.\u001B[0m\u001B[32m.\u001B[0m\u001B[32m.\u001B[0m\u001B[32m.\u001B[0m\u001B[32m.\u001B[0m\u001B[32m.\u001B[0m\u001B[32m.\u001B[0m\u001B[32m.\u001B[0m\u001B[32m.\u001B[0m\u001B[32m.\u001B[0m\u001B[32m.\u001B[0m\u001B[32m.\u001B[0m\u001B[32m.\u001B[0m\u001B[32m.\u001B[0m\u001B[32m.\u001B[0m\u001B[32m.\u001B[0m\u001B[32m.\u001B[0m\u001B[32m.\u001B[0m\u001B[32m.\u001B[0m\u001B[32m.\u001B[0m\u001B[32m.\u001B[0m\u001B[32m.\u001B[0m\u001B[32m.\u001B[0m\u001B[32m.\u001B[0m\u001B[32m.\u001B[0m\u001B[32m.\u001B[0m\u001B[32m.\u001B[0m\u001B[32m [ 14%]\n",
      "\u001B[0m\u001B[32m.\u001B[0m\u001B[32m.\u001B[0m\u001B[32m.\u001B[0m\u001B[32m.\u001B[0m\u001B[32m.\u001B[0m\u001B[32m.\u001B[0m\u001B[32m.\u001B[0m\u001B[32m.\u001B[0m\u001B[32m.\u001B[0m\u001B[32m.\u001B[0m\u001B[32m.\u001B[0m\u001B[32m.\u001B[0m\u001B[32m.\u001B[0m\u001B[32m.\u001B[0m\u001B[32m.\u001B[0m\u001B[32m.\u001B[0m\u001B[32m.\u001B[0m\u001B[32m.\u001B[0m\u001B[32m.\u001B[0m\u001B[32m.\u001B[0m\u001B[32m.\u001B[0m\u001B[32m.\u001B[0m\u001B[32m.\u001B[0m\u001B[32m.\u001B[0m\u001B[32m.\u001B[0m\u001B[32m.\u001B[0m\u001B[32m.\u001B[0m\u001B[32m.\u001B[0m\u001B[32m.\u001B[0m\u001B[32m.\u001B[0m\u001B[32m.\u001B[0m\u001B[32m.\u001B[0m\u001B[32m.\u001B[0m\u001B[32m.\u001B[0m\u001B[32m.\u001B[0m\u001B[32m.\u001B[0m\u001B[32m.\u001B[0m\u001B[32m.\u001B[0m\u001B[32m.\u001B[0m\u001B[32m.\u001B[0m\u001B[32m.\u001B[0m\u001B[32m.\u001B[0m\u001B[32m.\u001B[0m\u001B[32m.\u001B[0m\u001B[32m.\u001B[0m\u001B[32m.\u001B[0m\u001B[32m.\u001B[0m\u001B[32m.\u001B[0m\u001B[32m.\u001B[0m\u001B[32m.\u001B[0m\u001B[32m.\u001B[0m\u001B[32m.\u001B[0m\u001B[32m.\u001B[0m\u001B[32m.\u001B[0m\u001B[32m.\u001B[0m\u001B[32m.\u001B[0m\u001B[32m.\u001B[0m\u001B[32m.\u001B[0m\u001B[32m.\u001B[0m\u001B[32m.\u001B[0m\u001B[32m.\u001B[0m\u001B[32m.\u001B[0m\u001B[32m.\u001B[0m\u001B[32m.\u001B[0m\u001B[32m.\u001B[0m\u001B[32m.\u001B[0m\u001B[32m.\u001B[0m\u001B[32m.\u001B[0m\u001B[32m.\u001B[0m\u001B[32m.\u001B[0m\u001B[32m   [ 29%]\u001B[0m\n",
      "tests/test_blueprints.py \u001B[32m.\u001B[0m\u001B[32m.\u001B[0m\u001B[32m.\u001B[0m\u001B[32m.\u001B[0m\u001B[32m.\u001B[0m\u001B[32m.\u001B[0m\u001B[32m.\u001B[0m\u001B[32m.\u001B[0m\u001B[32m.\u001B[0m\u001B[32m.\u001B[0m\u001B[32m.\u001B[0m\u001B[32m.\u001B[0m\u001B[32m.\u001B[0m\u001B[32m.\u001B[0m\u001B[32m.\u001B[0m\u001B[32m.\u001B[0m\u001B[32m.\u001B[0m\u001B[32m.\u001B[0m\u001B[32m.\u001B[0m\u001B[32m.\u001B[0m\u001B[32m.\u001B[0m\u001B[32m.\u001B[0m\u001B[32m.\u001B[0m\u001B[32m.\u001B[0m\u001B[32m.\u001B[0m\u001B[32m.\u001B[0m\u001B[32m.\u001B[0m\u001B[32m.\u001B[0m\u001B[32m.\u001B[0m\u001B[32m.\u001B[0m\u001B[32m.\u001B[0m\u001B[32m.\u001B[0m\u001B[32m.\u001B[0m\u001B[32m.\u001B[0m\u001B[32m.\u001B[0m\u001B[32m.\u001B[0m\u001B[32m.\u001B[0m\u001B[32m.\u001B[0m\u001B[32m.\u001B[0m\u001B[32m.\u001B[0m\u001B[32m.\u001B[0m\u001B[32m.\u001B[0m\u001B[32m.\u001B[0m\u001B[32m.\u001B[0m\u001B[32m.\u001B[0m\u001B[32m.\u001B[0m\u001B[32m.\u001B[0m\u001B[32m [ 39%]\n",
      "\u001B[0m\u001B[32m.\u001B[0m\u001B[32m                                                                        [ 39%]\u001B[0m\n",
      "tests/test_cli.py \u001B[32m.\u001B[0m\u001B[32m.\u001B[0m\u001B[32m.\u001B[0m\u001B[32m.\u001B[0m\u001B[32m.\u001B[0m\u001B[32m.\u001B[0m\u001B[32m.\u001B[0m\u001B[32m.\u001B[0m\u001B[32m.\u001B[0m\u001B[32m.\u001B[0m\u001B[32m.\u001B[0m\u001B[32m.\u001B[0m\u001B[32m.\u001B[0m\u001B[32m.\u001B[0m\u001B[32m.\u001B[0m\u001B[32m.\u001B[0m\u001B[32m.\u001B[0m\u001B[32m.\u001B[0m\u001B[32m.\u001B[0m\u001B[32m.\u001B[0m\u001B[32m.\u001B[0m\u001B[32m.\u001B[0m\u001B[32m.\u001B[0m\u001B[32m.\u001B[0m\u001B[32m.\u001B[0m\u001B[32m.\u001B[0m\u001B[32m.\u001B[0m\u001B[32m.\u001B[0m\u001B[32m.\u001B[0m\u001B[32m.\u001B[0m\u001B[32m.\u001B[0m\u001B[32m.\u001B[0m\u001B[32m.\u001B[0m\u001B[32m.\u001B[0m\u001B[32m.\u001B[0m\u001B[32m.\u001B[0m\u001B[32m.\u001B[0m\u001B[32m.\u001B[0m\u001B[32m.\u001B[0m\u001B[32m.\u001B[0m\u001B[32m.\u001B[0m\u001B[33ms\u001B[0m\u001B[33ms\u001B[0m\u001B[32m.\u001B[0m\u001B[33ms\u001B[0m\u001B[32m.\u001B[0m\u001B[32m.\u001B[0m\u001B[32m.\u001B[0m\u001B[32m.\u001B[0m\u001B[32m.\u001B[0m\u001B[32m.\u001B[0m\u001B[32m    [ 50%]\u001B[0m\n",
      "tests/test_config.py \u001B[32m.\u001B[0m\u001B[32m.\u001B[0m\u001B[32m.\u001B[0m\u001B[32m.\u001B[0m\u001B[32m.\u001B[0m\u001B[32m.\u001B[0m\u001B[32m.\u001B[0m\u001B[32m.\u001B[0m\u001B[32m.\u001B[0m\u001B[32m.\u001B[0m\u001B[32m.\u001B[0m\u001B[32m.\u001B[0m\u001B[32m.\u001B[0m\u001B[32m.\u001B[0m\u001B[32m.\u001B[0m\u001B[32m.\u001B[0m\u001B[32m                                    [ 53%]\u001B[0m\n",
      "tests/test_converters.py \u001B[32m.\u001B[0m\u001B[32m.\u001B[0m\u001B[32m                                              [ 54%]\u001B[0m\n",
      "tests/test_helpers.py \u001B[32m.\u001B[0m\u001B[32m.\u001B[0m\u001B[32m.\u001B[0m\u001B[32m.\u001B[0m\u001B[32m.\u001B[0m\u001B[32m.\u001B[0m\u001B[32m.\u001B[0m\u001B[32m.\u001B[0m\u001B[32m.\u001B[0m\u001B[32m.\u001B[0m\u001B[32m.\u001B[0m\u001B[32m.\u001B[0m\u001B[32m.\u001B[0m\u001B[32m.\u001B[0m\u001B[32m.\u001B[0m\u001B[32m.\u001B[0m\u001B[32m.\u001B[0m\u001B[32m.\u001B[0m\u001B[32m.\u001B[0m\u001B[32m.\u001B[0m\u001B[32m.\u001B[0m\u001B[32m.\u001B[0m\u001B[32m.\u001B[0m\u001B[32m.\u001B[0m\u001B[32m.\u001B[0m\u001B[32m.\u001B[0m\u001B[32m.\u001B[0m\u001B[32m.\u001B[0m\u001B[32m.\u001B[0m\u001B[32m.\u001B[0m\u001B[32m.\u001B[0m\u001B[32m.\u001B[0m\u001B[32m.\u001B[0m\u001B[32m.\u001B[0m\u001B[32m.\u001B[0m\u001B[32m.\u001B[0m\u001B[32m.\u001B[0m\u001B[32m.\u001B[0m\u001B[32m.\u001B[0m\u001B[32m.\u001B[0m\u001B[32m.\u001B[0m\u001B[32m.\u001B[0m\u001B[32m.\u001B[0m\u001B[32m.\u001B[0m\u001B[32m.\u001B[0m\u001B[32m.\u001B[0m\u001B[32m.\u001B[0m\u001B[32m.\u001B[0m\u001B[32m.\u001B[0m\u001B[32m.\u001B[0m\u001B[32m [ 64%]\n",
      "\u001B[0m\u001B[32m.\u001B[0m\u001B[32m.\u001B[0m\u001B[32m.\u001B[0m\u001B[32m.\u001B[0m\u001B[32m.\u001B[0m\u001B[32m.\u001B[0m\u001B[32m.\u001B[0m\u001B[32m.\u001B[0m\u001B[32m.\u001B[0m\u001B[32m.\u001B[0m\u001B[32m.\u001B[0m\u001B[32m.\u001B[0m\u001B[32m.\u001B[0m\u001B[32m.\u001B[0m\u001B[32m.\u001B[0m\u001B[32m.\u001B[0m\u001B[32m.\u001B[0m\u001B[32m.\u001B[0m\u001B[32m.\u001B[0m\u001B[32m.\u001B[0m\u001B[32m.\u001B[0m\u001B[32m.\u001B[0m\u001B[32m.\u001B[0m\u001B[32m.\u001B[0m\u001B[32m.\u001B[0m\u001B[32m.\u001B[0m\u001B[32m.\u001B[0m\u001B[32m.\u001B[0m\u001B[32m.\u001B[0m\u001B[32m.\u001B[0m\u001B[32m.\u001B[0m\u001B[32m                                          [ 71%]\u001B[0m\n",
      "tests/test_instance_config.py \u001B[32m.\u001B[0m\u001B[33mX\u001B[0m\u001B[33mX\u001B[0m\u001B[33mX\u001B[0m\u001B[32m.\u001B[0m\u001B[32m.\u001B[0m\u001B[32m.\u001B[0m\u001B[32m.\u001B[0m\u001B[32m.\u001B[0m\u001B[32m.\u001B[0m\u001B[32m.\u001B[0m\u001B[33m                                [ 73%]\u001B[0m\n",
      "tests/test_json_tag.py \u001B[32m.\u001B[0m\u001B[32m.\u001B[0m\u001B[32m.\u001B[0m\u001B[32m.\u001B[0m\u001B[32m.\u001B[0m\u001B[32m.\u001B[0m\u001B[32m.\u001B[0m\u001B[32m.\u001B[0m\u001B[32m.\u001B[0m\u001B[32m.\u001B[0m\u001B[32m.\u001B[0m\u001B[32m.\u001B[0m\u001B[32m.\u001B[0m\u001B[32m.\u001B[0m\u001B[33m                                    [ 76%]\u001B[0m\n",
      "tests/test_logging.py \u001B[32m.\u001B[0m\u001B[32m.\u001B[0m\u001B[32m.\u001B[0m\u001B[32m.\u001B[0m\u001B[32m.\u001B[0m\u001B[32m.\u001B[0m\u001B[33m                                             [ 77%]\u001B[0m\n",
      "tests/test_regression.py \u001B[32m.\u001B[0m\u001B[32m.\u001B[0m\u001B[32m.\u001B[0m\u001B[33m                                             [ 78%]\u001B[0m\n",
      "tests/test_reqctx.py \u001B[32m.\u001B[0m\u001B[32m.\u001B[0m\u001B[32m.\u001B[0m\u001B[32m.\u001B[0m\u001B[32m.\u001B[0m\u001B[32m.\u001B[0m\u001B[32m.\u001B[0m\u001B[33ms\u001B[0m\u001B[33ms\u001B[0m\u001B[32m.\u001B[0m\u001B[32m.\u001B[0m\u001B[32m.\u001B[0m\u001B[32m.\u001B[0m\u001B[32m.\u001B[0m\u001B[33m                                      [ 81%]\u001B[0m\n",
      "tests/test_signals.py \u001B[33ms\u001B[0m\u001B[33ms\u001B[0m\u001B[33ms\u001B[0m\u001B[33ms\u001B[0m\u001B[33ms\u001B[0m\u001B[33ms\u001B[0m\u001B[33ms\u001B[0m\u001B[33m                                            [ 83%]\u001B[0m\n",
      "tests/test_subclassing.py \u001B[32m.\u001B[0m\u001B[33m                                              [ 83%]\u001B[0m\n",
      "tests/test_templating.py \u001B[32m.\u001B[0m\u001B[32m.\u001B[0m\u001B[32m.\u001B[0m\u001B[32m.\u001B[0m\u001B[32m.\u001B[0m\u001B[32m.\u001B[0m\u001B[32m.\u001B[0m\u001B[32m.\u001B[0m\u001B[32m.\u001B[0m\u001B[32m.\u001B[0m\u001B[32m.\u001B[0m\u001B[32m.\u001B[0m\u001B[32m.\u001B[0m\u001B[32m.\u001B[0m\u001B[32m.\u001B[0m\u001B[32m.\u001B[0m\u001B[32m.\u001B[0m\u001B[32m.\u001B[0m\u001B[32m.\u001B[0m\u001B[32m.\u001B[0m\u001B[32m.\u001B[0m\u001B[32m.\u001B[0m\u001B[32m.\u001B[0m\u001B[32m.\u001B[0m\u001B[32m.\u001B[0m\u001B[32m.\u001B[0m\u001B[32m.\u001B[0m\u001B[32m.\u001B[0m\u001B[32m.\u001B[0m\u001B[32m.\u001B[0m\u001B[32m.\u001B[0m\u001B[33m                 [ 89%]\u001B[0m\n",
      "tests/test_testing.py \u001B[32m.\u001B[0m\u001B[32m.\u001B[0m\u001B[32m.\u001B[0m\u001B[32m.\u001B[0m\u001B[32m.\u001B[0m\u001B[32m.\u001B[0m\u001B[32m.\u001B[0m\u001B[32m.\u001B[0m\u001B[32m.\u001B[0m\u001B[32m.\u001B[0m\u001B[32m.\u001B[0m\u001B[32m.\u001B[0m\u001B[32m.\u001B[0m\u001B[32m.\u001B[0m\u001B[32m.\u001B[0m\u001B[32m.\u001B[0m\u001B[32m.\u001B[0m\u001B[32m.\u001B[0m\u001B[32m.\u001B[0m\u001B[33ms\u001B[0m\u001B[32m.\u001B[0m\u001B[32m.\u001B[0m\u001B[32m.\u001B[0m\u001B[32m.\u001B[0m\u001B[32m.\u001B[0m\u001B[32m.\u001B[0m\u001B[33m                         [ 95%]\u001B[0m\n",
      "tests/test_user_error_handler.py \u001B[32m.\u001B[0m\u001B[32m.\u001B[0m\u001B[32m.\u001B[0m\u001B[32m.\u001B[0m\u001B[32m.\u001B[0m\u001B[32m.\u001B[0m\u001B[32m.\u001B[0m\u001B[32m.\u001B[0m\u001B[32m.\u001B[0m\u001B[33m                               [ 97%]\u001B[0m\n",
      "tests/test_views.py \u001B[32m.\u001B[0m\u001B[32m.\u001B[0m\u001B[32m.\u001B[0m\u001B[32m.\u001B[0m\u001B[32m.\u001B[0m\u001B[32m.\u001B[0m\u001B[32m.\u001B[0m\u001B[32m.\u001B[0m\u001B[32m.\u001B[0m\u001B[32m.\u001B[0m\u001B[32m.\u001B[0m\u001B[32m.\u001B[0m\u001B[33m                                         [100%]\u001B[0m\n",
      "\n",
      "- generated json report: /mnt/brick/home/dmeier/CRM2020/repos/flask/report.json -\n",
      "\u001B[33m================== \u001B[32m452 passed\u001B[0m, \u001B[33m\u001B[1m13 skipped\u001B[0m, \u001B[33m\u001B[1m3 xpassed\u001B[0m\u001B[33m in 2.30s\u001B[0m\u001B[33m ==================\u001B[0m\n"
     ]
    }
   ],
   "source": [
    "!cd repos/flask/ && pytest --json=report.json --timeout=300"
   ]
  },
  {
   "cell_type": "code",
   "execution_count": 251,
   "metadata": {},
   "outputs": [
    {
     "name": "stdout",
     "output_type": "stream",
     "text": [
      "{'name': 'tests/test_appctx.py::test_basic_url_generation', 'duration': 0.004573345184326172, 'run_index': 0, 'setup': {'name': 'setup', 'duration': 0.0018436908721923828, 'outcome': 'passed'}, 'call': {'name': 'call', 'duration': 0.0006525516510009766, 'outcome': 'passed'}, 'teardown': {'name': 'teardown', 'duration': 0.0002334117889404297, 'outcome': 'passed'}, 'outcome': 'passed'}\n"
     ]
    }
   ],
   "source": [
    "with open('repos/flask/report.json') as json_file:\n",
    "    print(json.load(json_file)[\"report\"][\"tests\"][0])"
   ]
  },
  {
   "cell_type": "code",
   "execution_count": 245,
   "metadata": {},
   "outputs": [
    {
     "data": {
      "text/plain": [
       "True"
      ]
     },
     "execution_count": 245,
     "metadata": {},
     "output_type": "execute_result"
    }
   ],
   "source": [
    "mutants = pd.DataFrame(columns=['mutant_id','modified_file_path','line_number_changed','previous_line', 'current_line'])\n",
    "mutants\n",
    "test_runs = pd.DataFrame(columns=['test_id', 'mutant_id', 'outcome'])\n",
    "\n",
    "\"failed\" == \"failed\""
   ]
  },
  {
   "cell_type": "code",
   "execution_count": 246,
   "metadata": {
    "scrolled": true
   },
   "outputs": [],
   "source": [
    "def analyze_mutant(*,mutant_id):\n",
    "    repo = Repo(\"repos/flask\")\n",
    "    assert not repo.bare\n",
    "    !echo Switching to Mutant $mutant_id\n",
    "    !. crm2020_python3.8/bin/activate && cd repos/flask/ && mutmut apply $mutant_id && pytest --json=report.json > /dev/null\n",
    "    changed_file = generate_repo_diff_data(repo= repo, mutant_id=mutant_id)\n",
    "    tests = generate_test_data(mutant_id=mutant_id)\n",
    "    \n",
    "    # Cleanup logic:\n",
    "    !cd repos/flask/ && git checkout .\n",
    "    !rm repos/flask/report.json\n",
    "    \n",
    "    return {\"changed_file\": changed_file, \"tests\": tests}\n",
    "    \n",
    "# analyze_mutant(mutant_id=1)"
   ]
  },
  {
   "cell_type": "code",
   "execution_count": 247,
   "metadata": {
    "scrolled": true
   },
   "outputs": [
    {
     "name": "stdout",
     "output_type": "stream",
     "text": [
      "Switching to Mutant 1\n",
      "b/src/flask/app.py\n",
      "Tests length: 468\n"
     ]
    }
   ],
   "source": [
    "tests = pd.DataFrame(columns=Test.__annotations__)\n",
    "mutants = pd.DataFrame(columns=Mutant.__annotations__)\n",
    "\n",
    "for mutant_id in range(1, 2, 1):\n",
    "    try:\n",
    "        results = analyze_mutant(mutant_id=mutant_id)\n",
    "        for test in results[\"tests\"]:\n",
    "            tests = tests.append(test.__dict__, ignore_index = True)\n",
    "        mutants = mutants.append(results[\"changed_file\"].__dict__, ignore_index=True)\n",
    "        print(\"Tests length: \" + str(len(tests)))\n",
    "    except:\n",
    "        print(\"Unexpected error:\", sys.exc_info()[0])\n",
    "        print(\"Resetting the repo and then testing the next mutant\")\n",
    "        !cd repos/flask/ && git checkout .\n"
   ]
  },
  {
   "cell_type": "code",
   "execution_count": 248,
   "metadata": {
    "scrolled": true
   },
   "outputs": [
    {
     "data": {
      "text/html": [
       "<div>\n",
       "<style scoped>\n",
       "    .dataframe tbody tr th:only-of-type {\n",
       "        vertical-align: middle;\n",
       "    }\n",
       "\n",
       "    .dataframe tbody tr th {\n",
       "        vertical-align: top;\n",
       "    }\n",
       "\n",
       "    .dataframe thead th {\n",
       "        text-align: right;\n",
       "    }\n",
       "</style>\n",
       "<table border=\"1\" class=\"dataframe\">\n",
       "  <thead>\n",
       "    <tr style=\"text-align: right;\">\n",
       "      <th></th>\n",
       "      <th>outcome</th>\n",
       "      <th>test_id</th>\n",
       "      <th>full_name</th>\n",
       "      <th>name</th>\n",
       "      <th>filepath</th>\n",
       "      <th>duration</th>\n",
       "      <th>setup_outcome</th>\n",
       "      <th>setup_duration</th>\n",
       "      <th>call_outcome</th>\n",
       "      <th>call_duration</th>\n",
       "      <th>teardown_outcome</th>\n",
       "      <th>teardown_duration</th>\n",
       "    </tr>\n",
       "  </thead>\n",
       "  <tbody>\n",
       "    <tr>\n",
       "      <th>0</th>\n",
       "      <td>True</td>\n",
       "      <td>0</td>\n",
       "      <td>tests/test_appctx.py::test_basic_url_generation</td>\n",
       "      <td>test_basic_url_generation</td>\n",
       "      <td>tests/test_appctx.py</td>\n",
       "      <td>0.003975</td>\n",
       "      <td>True</td>\n",
       "      <td>0.001587</td>\n",
       "      <td>True</td>\n",
       "      <td>0.000592947</td>\n",
       "      <td>True</td>\n",
       "      <td>0.000208378</td>\n",
       "    </tr>\n",
       "    <tr>\n",
       "      <th>1</th>\n",
       "      <td>True</td>\n",
       "      <td>1</td>\n",
       "      <td>tests/test_appctx.py::test_url_generation_requ...</td>\n",
       "      <td>test_url_generation_requires_server_name</td>\n",
       "      <td>tests/test_appctx.py</td>\n",
       "      <td>0.002659</td>\n",
       "      <td>True</td>\n",
       "      <td>0.001115</td>\n",
       "      <td>True</td>\n",
       "      <td>0.000249624</td>\n",
       "      <td>True</td>\n",
       "      <td>0.000180483</td>\n",
       "    </tr>\n",
       "    <tr>\n",
       "      <th>2</th>\n",
       "      <td>True</td>\n",
       "      <td>2</td>\n",
       "      <td>tests/test_appctx.py::test_url_generation_with...</td>\n",
       "      <td>test_url_generation_without_context_fails</td>\n",
       "      <td>tests/test_appctx.py</td>\n",
       "      <td>0.000828</td>\n",
       "      <td>True</td>\n",
       "      <td>0.000251</td>\n",
       "      <td>True</td>\n",
       "      <td>0.000160456</td>\n",
       "      <td>True</td>\n",
       "      <td>0.000165462</td>\n",
       "    </tr>\n",
       "    <tr>\n",
       "      <th>3</th>\n",
       "      <td>True</td>\n",
       "      <td>3</td>\n",
       "      <td>tests/test_appctx.py::test_request_context_mea...</td>\n",
       "      <td>test_request_context_means_app_context</td>\n",
       "      <td>tests/test_appctx.py</td>\n",
       "      <td>0.002968</td>\n",
       "      <td>True</td>\n",
       "      <td>0.001097</td>\n",
       "      <td>True</td>\n",
       "      <td>0.00058341</td>\n",
       "      <td>True</td>\n",
       "      <td>0.000190258</td>\n",
       "    </tr>\n",
       "    <tr>\n",
       "      <th>4</th>\n",
       "      <td>True</td>\n",
       "      <td>4</td>\n",
       "      <td>tests/test_appctx.py::test_app_context_provide...</td>\n",
       "      <td>test_app_context_provides_current_app</td>\n",
       "      <td>tests/test_appctx.py</td>\n",
       "      <td>0.003050</td>\n",
       "      <td>True</td>\n",
       "      <td>0.001356</td>\n",
       "      <td>True</td>\n",
       "      <td>0.000160694</td>\n",
       "      <td>True</td>\n",
       "      <td>0.000177145</td>\n",
       "    </tr>\n",
       "    <tr>\n",
       "      <th>...</th>\n",
       "      <td>...</td>\n",
       "      <td>...</td>\n",
       "      <td>...</td>\n",
       "      <td>...</td>\n",
       "      <td>...</td>\n",
       "      <td>...</td>\n",
       "      <td>...</td>\n",
       "      <td>...</td>\n",
       "      <td>...</td>\n",
       "      <td>...</td>\n",
       "      <td>...</td>\n",
       "      <td>...</td>\n",
       "    </tr>\n",
       "    <tr>\n",
       "      <th>463</th>\n",
       "      <td>True</td>\n",
       "      <td>463</td>\n",
       "      <td>tests/test_views.py::test_explicit_head</td>\n",
       "      <td>test_explicit_head</td>\n",
       "      <td>tests/test_views.py</td>\n",
       "      <td>0.004402</td>\n",
       "      <td>True</td>\n",
       "      <td>0.001329</td>\n",
       "      <td>True</td>\n",
       "      <td>0.00151491</td>\n",
       "      <td>True</td>\n",
       "      <td>0.000228882</td>\n",
       "    </tr>\n",
       "    <tr>\n",
       "      <th>464</th>\n",
       "      <td>True</td>\n",
       "      <td>464</td>\n",
       "      <td>tests/test_views.py::test_endpoint_override</td>\n",
       "      <td>test_endpoint_override</td>\n",
       "      <td>tests/test_views.py</td>\n",
       "      <td>0.005579</td>\n",
       "      <td>True</td>\n",
       "      <td>0.001246</td>\n",
       "      <td>True</td>\n",
       "      <td>0.00287104</td>\n",
       "      <td>True</td>\n",
       "      <td>0.000215054</td>\n",
       "    </tr>\n",
       "    <tr>\n",
       "      <th>465</th>\n",
       "      <td>True</td>\n",
       "      <td>465</td>\n",
       "      <td>tests/test_views.py::test_methods_var_inheritance</td>\n",
       "      <td>test_methods_var_inheritance</td>\n",
       "      <td>tests/test_views.py</td>\n",
       "      <td>0.004526</td>\n",
       "      <td>True</td>\n",
       "      <td>0.001351</td>\n",
       "      <td>True</td>\n",
       "      <td>0.00158238</td>\n",
       "      <td>True</td>\n",
       "      <td>0.000241995</td>\n",
       "    </tr>\n",
       "    <tr>\n",
       "      <th>466</th>\n",
       "      <td>True</td>\n",
       "      <td>466</td>\n",
       "      <td>tests/test_views.py::test_multiple_inheritance</td>\n",
       "      <td>test_multiple_inheritance</td>\n",
       "      <td>tests/test_views.py</td>\n",
       "      <td>0.005246</td>\n",
       "      <td>True</td>\n",
       "      <td>0.001344</td>\n",
       "      <td>True</td>\n",
       "      <td>0.00232792</td>\n",
       "      <td>True</td>\n",
       "      <td>0.000229597</td>\n",
       "    </tr>\n",
       "    <tr>\n",
       "      <th>467</th>\n",
       "      <td>True</td>\n",
       "      <td>467</td>\n",
       "      <td>tests/test_views.py::test_remove_method_from_p...</td>\n",
       "      <td>test_remove_method_from_parent</td>\n",
       "      <td>tests/test_views.py</td>\n",
       "      <td>0.018928</td>\n",
       "      <td>True</td>\n",
       "      <td>0.001322</td>\n",
       "      <td>True</td>\n",
       "      <td>0.00158477</td>\n",
       "      <td>True</td>\n",
       "      <td>0.0146999</td>\n",
       "    </tr>\n",
       "  </tbody>\n",
       "</table>\n",
       "<p>468 rows × 12 columns</p>\n",
       "</div>"
      ],
      "text/plain": [
       "    outcome test_id                                          full_name  \\\n",
       "0      True       0    tests/test_appctx.py::test_basic_url_generation   \n",
       "1      True       1  tests/test_appctx.py::test_url_generation_requ...   \n",
       "2      True       2  tests/test_appctx.py::test_url_generation_with...   \n",
       "3      True       3  tests/test_appctx.py::test_request_context_mea...   \n",
       "4      True       4  tests/test_appctx.py::test_app_context_provide...   \n",
       "..      ...     ...                                                ...   \n",
       "463    True     463            tests/test_views.py::test_explicit_head   \n",
       "464    True     464        tests/test_views.py::test_endpoint_override   \n",
       "465    True     465  tests/test_views.py::test_methods_var_inheritance   \n",
       "466    True     466     tests/test_views.py::test_multiple_inheritance   \n",
       "467    True     467  tests/test_views.py::test_remove_method_from_p...   \n",
       "\n",
       "                                          name              filepath  \\\n",
       "0                    test_basic_url_generation  tests/test_appctx.py   \n",
       "1     test_url_generation_requires_server_name  tests/test_appctx.py   \n",
       "2    test_url_generation_without_context_fails  tests/test_appctx.py   \n",
       "3       test_request_context_means_app_context  tests/test_appctx.py   \n",
       "4        test_app_context_provides_current_app  tests/test_appctx.py   \n",
       "..                                         ...                   ...   \n",
       "463                         test_explicit_head   tests/test_views.py   \n",
       "464                     test_endpoint_override   tests/test_views.py   \n",
       "465               test_methods_var_inheritance   tests/test_views.py   \n",
       "466                  test_multiple_inheritance   tests/test_views.py   \n",
       "467             test_remove_method_from_parent   tests/test_views.py   \n",
       "\n",
       "     duration setup_outcome  setup_duration call_outcome call_duration  \\\n",
       "0    0.003975          True        0.001587         True   0.000592947   \n",
       "1    0.002659          True        0.001115         True   0.000249624   \n",
       "2    0.000828          True        0.000251         True   0.000160456   \n",
       "3    0.002968          True        0.001097         True    0.00058341   \n",
       "4    0.003050          True        0.001356         True   0.000160694   \n",
       "..        ...           ...             ...          ...           ...   \n",
       "463  0.004402          True        0.001329         True    0.00151491   \n",
       "464  0.005579          True        0.001246         True    0.00287104   \n",
       "465  0.004526          True        0.001351         True    0.00158238   \n",
       "466  0.005246          True        0.001344         True    0.00232792   \n",
       "467  0.018928          True        0.001322         True    0.00158477   \n",
       "\n",
       "    teardown_outcome teardown_duration  \n",
       "0               True       0.000208378  \n",
       "1               True       0.000180483  \n",
       "2               True       0.000165462  \n",
       "3               True       0.000190258  \n",
       "4               True       0.000177145  \n",
       "..               ...               ...  \n",
       "463             True       0.000228882  \n",
       "464             True       0.000215054  \n",
       "465             True       0.000241995  \n",
       "466             True       0.000229597  \n",
       "467             True         0.0146999  \n",
       "\n",
       "[468 rows x 12 columns]"
      ]
     },
     "execution_count": 248,
     "metadata": {},
     "output_type": "execute_result"
    }
   ],
   "source": [
    "tests"
   ]
  },
  {
   "cell_type": "code",
   "execution_count": 249,
   "metadata": {
    "scrolled": true
   },
   "outputs": [
    {
     "data": {
      "text/html": [
       "<div>\n",
       "<style scoped>\n",
       "    .dataframe tbody tr th:only-of-type {\n",
       "        vertical-align: middle;\n",
       "    }\n",
       "\n",
       "    .dataframe tbody tr th {\n",
       "        vertical-align: top;\n",
       "    }\n",
       "\n",
       "    .dataframe thead th {\n",
       "        text-align: right;\n",
       "    }\n",
       "</style>\n",
       "<table border=\"1\" class=\"dataframe\">\n",
       "  <thead>\n",
       "    <tr style=\"text-align: right;\">\n",
       "      <th></th>\n",
       "      <th>mutant_id</th>\n",
       "      <th>modified_file_path</th>\n",
       "      <th>line_number_changed</th>\n",
       "      <th>previous_line</th>\n",
       "      <th>current_line</th>\n",
       "    </tr>\n",
       "  </thead>\n",
       "  <tbody>\n",
       "    <tr>\n",
       "      <th>0</th>\n",
       "      <td>1</td>\n",
       "      <td>src/flask/app.py</td>\n",
       "      <td>54</td>\n",
       "      <td>sentinel = object()\\n</td>\n",
       "      <td>sentinel = None\\n</td>\n",
       "    </tr>\n",
       "  </tbody>\n",
       "</table>\n",
       "</div>"
      ],
      "text/plain": [
       "  mutant_id modified_file_path line_number_changed          previous_line  \\\n",
       "0         1   src/flask/app.py                  54  sentinel = object()\\n   \n",
       "\n",
       "        current_line  \n",
       "0  sentinel = None\\n  "
      ]
     },
     "execution_count": 249,
     "metadata": {},
     "output_type": "execute_result"
    }
   ],
   "source": [
    "mutants"
   ]
  },
  {
   "cell_type": "code",
   "execution_count": null,
   "metadata": {},
   "outputs": [],
   "source": [
    "mutants_and_tests = mutants.set_index('mutant_id').join(tests.set_index('mutant_id'))\n",
    "# mutants_and_tests.to_pickle('flask_dataset_every_mutant_with_checkout_on_failure.pkl')"
   ]
  },
  {
   "cell_type": "code",
   "execution_count": null,
   "metadata": {
    "scrolled": true
   },
   "outputs": [],
   "source": [
    "mutants_and_tests.groupby(['test_id','outcome']).count()['current_line']\n"
   ]
  },
  {
   "cell_type": "code",
   "execution_count": 74,
   "metadata": {},
   "outputs": [
    {
     "data": {
      "text/plain": "mutant_id\n1       False\n1       False\n1       False\n1       False\n1       False\n        ...  \n1234    False\n1234    False\n1234    False\n1234    False\n1234    False\nName: outcome, Length: 84, dtype: bool"
     },
     "execution_count": 74,
     "metadata": {},
     "output_type": "execute_result"
    }
   ],
   "source": [
    "# Covariance Matrix \n",
    "mutants_and_tests = pd.read_pickle('20200604-001227joined_data')\n",
    "mutants_and_tests.reset_index()\n",
    "mutants_and_tests[\"outcome\"] = mutants_and_tests[\"outcome\"].astype('bool')\n",
    "mutants_and_tests[\"outcome\"].loc[mutants_and_tests[\"outcome\"] == False]"
   ]
  },
  {
   "cell_type": "code",
   "execution_count": 7,
   "metadata": {},
   "outputs": [
    {
     "data": {
      "text/plain": "             modified_file_path line_number_changed previous_line  \\\nmutant_id                                                           \n1           src/flask/config.py                   9                 \n1           src/flask/config.py                   9                 \n1           src/flask/config.py                   9                 \n1           src/flask/config.py                   9                 \n1           src/flask/config.py                   9                 \n...                         ...                 ...           ...   \n1234       src/flask/testing.py                  66                 \n1234       src/flask/testing.py                  66                 \n1234       src/flask/testing.py                  66                 \n1234       src/flask/testing.py                  66                 \n1234       src/flask/testing.py                  66                 \n\n                                                current_line outcome test_id  \\\nmutant_id                                                                      \n1                                     self.__name__ = None\\n    True       0   \n1                                     self.__name__ = None\\n    True       1   \n1                                     self.__name__ = None\\n    True       2   \n1                                     self.__name__ = None\\n    True       3   \n1                                     self.__name__ = None\\n    True       4   \n...                                                      ...     ...     ...   \n1234                      sep = b\"?\" if isinstance(url.qu...    True     463   \n1234                      sep = b\"?\" if isinstance(url.qu...    True     464   \n1234                      sep = b\"?\" if isinstance(url.qu...    True     465   \n1234                      sep = b\"?\" if isinstance(url.qu...    True     466   \n1234                      sep = b\"?\" if isinstance(url.qu...    True     467   \n\n                                                   full_name  \\\nmutant_id                                                      \n1            tests/test_appctx.py::test_basic_url_generation   \n1          tests/test_appctx.py::test_url_generation_requ...   \n1          tests/test_appctx.py::test_url_generation_with...   \n1          tests/test_appctx.py::test_request_context_mea...   \n1          tests/test_appctx.py::test_app_context_provide...   \n...                                                      ...   \n1234                 tests/test_views.py::test_explicit_head   \n1234             tests/test_views.py::test_endpoint_override   \n1234       tests/test_views.py::test_methods_var_inheritance   \n1234          tests/test_views.py::test_multiple_inheritance   \n1234       tests/test_views.py::test_remove_method_from_p...   \n\n                                                name              filepath  \\\nmutant_id                                                                    \n1                          test_basic_url_generation  tests/test_appctx.py   \n1           test_url_generation_requires_server_name  tests/test_appctx.py   \n1          test_url_generation_without_context_fails  tests/test_appctx.py   \n1             test_request_context_means_app_context  tests/test_appctx.py   \n1              test_app_context_provides_current_app  tests/test_appctx.py   \n...                                              ...                   ...   \n1234                              test_explicit_head   tests/test_views.py   \n1234                          test_endpoint_override   tests/test_views.py   \n1234                    test_methods_var_inheritance   tests/test_views.py   \n1234                       test_multiple_inheritance   tests/test_views.py   \n1234                  test_remove_method_from_parent   tests/test_views.py   \n\n           duration setup_outcome  setup_duration call_outcome  call_duration  \\\nmutant_id                                                                       \n1          0.007523          True        0.003278         True       0.000736   \n1          0.003607          True        0.001565         True       0.000260   \n1          0.000993          True        0.000324         True       0.000161   \n1          0.004140          True        0.001608         True       0.000709   \n1          0.003985          True        0.001772         True       0.000204   \n...             ...           ...             ...          ...            ...   \n1234       0.005416          True        0.001683         True       0.001799   \n1234       0.006971          True        0.001561         True       0.003595   \n1234       0.005810          True        0.001828         True       0.001915   \n1234       0.007152          True        0.001765         True       0.003373   \n1234       0.021382          True        0.001701         True       0.002066   \n\n          teardown_outcome  teardown_duration  \nmutant_id                                      \n1                     True           0.000231  \n1                     True           0.000216  \n1                     True           0.000185  \n1                     True           0.000215  \n1                     True           0.000237  \n...                    ...                ...  \n1234                  True           0.000251  \n1234                  True           0.000255  \n1234                  True           0.000239  \n1234                  True           0.000250  \n1234                  True           0.015914  \n\n[1872 rows x 16 columns]",
      "text/html": "<div>\n<style scoped>\n    .dataframe tbody tr th:only-of-type {\n        vertical-align: middle;\n    }\n\n    .dataframe tbody tr th {\n        vertical-align: top;\n    }\n\n    .dataframe thead th {\n        text-align: right;\n    }\n</style>\n<table border=\"1\" class=\"dataframe\">\n  <thead>\n    <tr style=\"text-align: right;\">\n      <th></th>\n      <th>modified_file_path</th>\n      <th>line_number_changed</th>\n      <th>previous_line</th>\n      <th>current_line</th>\n      <th>outcome</th>\n      <th>test_id</th>\n      <th>full_name</th>\n      <th>name</th>\n      <th>filepath</th>\n      <th>duration</th>\n      <th>setup_outcome</th>\n      <th>setup_duration</th>\n      <th>call_outcome</th>\n      <th>call_duration</th>\n      <th>teardown_outcome</th>\n      <th>teardown_duration</th>\n    </tr>\n    <tr>\n      <th>mutant_id</th>\n      <th></th>\n      <th></th>\n      <th></th>\n      <th></th>\n      <th></th>\n      <th></th>\n      <th></th>\n      <th></th>\n      <th></th>\n      <th></th>\n      <th></th>\n      <th></th>\n      <th></th>\n      <th></th>\n      <th></th>\n      <th></th>\n    </tr>\n  </thead>\n  <tbody>\n    <tr>\n      <th>1</th>\n      <td>src/flask/config.py</td>\n      <td>9</td>\n      <td></td>\n      <td>self.__name__ = None\\n</td>\n      <td>True</td>\n      <td>0</td>\n      <td>tests/test_appctx.py::test_basic_url_generation</td>\n      <td>test_basic_url_generation</td>\n      <td>tests/test_appctx.py</td>\n      <td>0.007523</td>\n      <td>True</td>\n      <td>0.003278</td>\n      <td>True</td>\n      <td>0.000736</td>\n      <td>True</td>\n      <td>0.000231</td>\n    </tr>\n    <tr>\n      <th>1</th>\n      <td>src/flask/config.py</td>\n      <td>9</td>\n      <td></td>\n      <td>self.__name__ = None\\n</td>\n      <td>True</td>\n      <td>1</td>\n      <td>tests/test_appctx.py::test_url_generation_requ...</td>\n      <td>test_url_generation_requires_server_name</td>\n      <td>tests/test_appctx.py</td>\n      <td>0.003607</td>\n      <td>True</td>\n      <td>0.001565</td>\n      <td>True</td>\n      <td>0.000260</td>\n      <td>True</td>\n      <td>0.000216</td>\n    </tr>\n    <tr>\n      <th>1</th>\n      <td>src/flask/config.py</td>\n      <td>9</td>\n      <td></td>\n      <td>self.__name__ = None\\n</td>\n      <td>True</td>\n      <td>2</td>\n      <td>tests/test_appctx.py::test_url_generation_with...</td>\n      <td>test_url_generation_without_context_fails</td>\n      <td>tests/test_appctx.py</td>\n      <td>0.000993</td>\n      <td>True</td>\n      <td>0.000324</td>\n      <td>True</td>\n      <td>0.000161</td>\n      <td>True</td>\n      <td>0.000185</td>\n    </tr>\n    <tr>\n      <th>1</th>\n      <td>src/flask/config.py</td>\n      <td>9</td>\n      <td></td>\n      <td>self.__name__ = None\\n</td>\n      <td>True</td>\n      <td>3</td>\n      <td>tests/test_appctx.py::test_request_context_mea...</td>\n      <td>test_request_context_means_app_context</td>\n      <td>tests/test_appctx.py</td>\n      <td>0.004140</td>\n      <td>True</td>\n      <td>0.001608</td>\n      <td>True</td>\n      <td>0.000709</td>\n      <td>True</td>\n      <td>0.000215</td>\n    </tr>\n    <tr>\n      <th>1</th>\n      <td>src/flask/config.py</td>\n      <td>9</td>\n      <td></td>\n      <td>self.__name__ = None\\n</td>\n      <td>True</td>\n      <td>4</td>\n      <td>tests/test_appctx.py::test_app_context_provide...</td>\n      <td>test_app_context_provides_current_app</td>\n      <td>tests/test_appctx.py</td>\n      <td>0.003985</td>\n      <td>True</td>\n      <td>0.001772</td>\n      <td>True</td>\n      <td>0.000204</td>\n      <td>True</td>\n      <td>0.000237</td>\n    </tr>\n    <tr>\n      <th>...</th>\n      <td>...</td>\n      <td>...</td>\n      <td>...</td>\n      <td>...</td>\n      <td>...</td>\n      <td>...</td>\n      <td>...</td>\n      <td>...</td>\n      <td>...</td>\n      <td>...</td>\n      <td>...</td>\n      <td>...</td>\n      <td>...</td>\n      <td>...</td>\n      <td>...</td>\n      <td>...</td>\n    </tr>\n    <tr>\n      <th>1234</th>\n      <td>src/flask/testing.py</td>\n      <td>66</td>\n      <td></td>\n      <td>sep = b\"?\" if isinstance(url.qu...</td>\n      <td>True</td>\n      <td>463</td>\n      <td>tests/test_views.py::test_explicit_head</td>\n      <td>test_explicit_head</td>\n      <td>tests/test_views.py</td>\n      <td>0.005416</td>\n      <td>True</td>\n      <td>0.001683</td>\n      <td>True</td>\n      <td>0.001799</td>\n      <td>True</td>\n      <td>0.000251</td>\n    </tr>\n    <tr>\n      <th>1234</th>\n      <td>src/flask/testing.py</td>\n      <td>66</td>\n      <td></td>\n      <td>sep = b\"?\" if isinstance(url.qu...</td>\n      <td>True</td>\n      <td>464</td>\n      <td>tests/test_views.py::test_endpoint_override</td>\n      <td>test_endpoint_override</td>\n      <td>tests/test_views.py</td>\n      <td>0.006971</td>\n      <td>True</td>\n      <td>0.001561</td>\n      <td>True</td>\n      <td>0.003595</td>\n      <td>True</td>\n      <td>0.000255</td>\n    </tr>\n    <tr>\n      <th>1234</th>\n      <td>src/flask/testing.py</td>\n      <td>66</td>\n      <td></td>\n      <td>sep = b\"?\" if isinstance(url.qu...</td>\n      <td>True</td>\n      <td>465</td>\n      <td>tests/test_views.py::test_methods_var_inheritance</td>\n      <td>test_methods_var_inheritance</td>\n      <td>tests/test_views.py</td>\n      <td>0.005810</td>\n      <td>True</td>\n      <td>0.001828</td>\n      <td>True</td>\n      <td>0.001915</td>\n      <td>True</td>\n      <td>0.000239</td>\n    </tr>\n    <tr>\n      <th>1234</th>\n      <td>src/flask/testing.py</td>\n      <td>66</td>\n      <td></td>\n      <td>sep = b\"?\" if isinstance(url.qu...</td>\n      <td>True</td>\n      <td>466</td>\n      <td>tests/test_views.py::test_multiple_inheritance</td>\n      <td>test_multiple_inheritance</td>\n      <td>tests/test_views.py</td>\n      <td>0.007152</td>\n      <td>True</td>\n      <td>0.001765</td>\n      <td>True</td>\n      <td>0.003373</td>\n      <td>True</td>\n      <td>0.000250</td>\n    </tr>\n    <tr>\n      <th>1234</th>\n      <td>src/flask/testing.py</td>\n      <td>66</td>\n      <td></td>\n      <td>sep = b\"?\" if isinstance(url.qu...</td>\n      <td>True</td>\n      <td>467</td>\n      <td>tests/test_views.py::test_remove_method_from_p...</td>\n      <td>test_remove_method_from_parent</td>\n      <td>tests/test_views.py</td>\n      <td>0.021382</td>\n      <td>True</td>\n      <td>0.001701</td>\n      <td>True</td>\n      <td>0.002066</td>\n      <td>True</td>\n      <td>0.015914</td>\n    </tr>\n  </tbody>\n</table>\n<p>1872 rows × 16 columns</p>\n</div>"
     },
     "metadata": {},
     "output_type": "display_data"
    },
    {
     "data": {
      "text/plain": "test_id   1     2     3     4    5    6    7    8    9    10   ...  458  459  \\\n0         NaN   NaN   NaN   NaN  NaN  NaN  NaN  NaN  NaN  NaN  ...  NaN  NaN   \n1        True   NaN   NaN   NaN  NaN  NaN  NaN  NaN  NaN  NaN  ...  NaN  NaN   \n2         NaN  True   NaN   NaN  NaN  NaN  NaN  NaN  NaN  NaN  ...  NaN  NaN   \n3         NaN   NaN  True   NaN  NaN  NaN  NaN  NaN  NaN  NaN  ...  NaN  NaN   \n4         NaN   NaN   NaN  True  NaN  NaN  NaN  NaN  NaN  NaN  ...  NaN  NaN   \n...       ...   ...   ...   ...  ...  ...  ...  ...  ...  ...  ...  ...  ...   \n1867      NaN   NaN   NaN   NaN  NaN  NaN  NaN  NaN  NaN  NaN  ...  NaN  NaN   \n1868      NaN   NaN   NaN   NaN  NaN  NaN  NaN  NaN  NaN  NaN  ...  NaN  NaN   \n1869      NaN   NaN   NaN   NaN  NaN  NaN  NaN  NaN  NaN  NaN  ...  NaN  NaN   \n1870      NaN   NaN   NaN   NaN  NaN  NaN  NaN  NaN  NaN  NaN  ...  NaN  NaN   \n1871      NaN   NaN   NaN   NaN  NaN  NaN  NaN  NaN  NaN  NaN  ...  NaN  NaN   \n\ntest_id  460  461  462   463   464   465   466   467  \n0        NaN  NaN  NaN   NaN   NaN   NaN   NaN   NaN  \n1        NaN  NaN  NaN   NaN   NaN   NaN   NaN   NaN  \n2        NaN  NaN  NaN   NaN   NaN   NaN   NaN   NaN  \n3        NaN  NaN  NaN   NaN   NaN   NaN   NaN   NaN  \n4        NaN  NaN  NaN   NaN   NaN   NaN   NaN   NaN  \n...      ...  ...  ...   ...   ...   ...   ...   ...  \n1867     NaN  NaN  NaN  True   NaN   NaN   NaN   NaN  \n1868     NaN  NaN  NaN   NaN  True   NaN   NaN   NaN  \n1869     NaN  NaN  NaN   NaN   NaN  True   NaN   NaN  \n1870     NaN  NaN  NaN   NaN   NaN   NaN  True   NaN  \n1871     NaN  NaN  NaN   NaN   NaN   NaN   NaN  True  \n\n[1872 rows x 467 columns]",
      "text/html": "<div>\n<style scoped>\n    .dataframe tbody tr th:only-of-type {\n        vertical-align: middle;\n    }\n\n    .dataframe tbody tr th {\n        vertical-align: top;\n    }\n\n    .dataframe thead th {\n        text-align: right;\n    }\n</style>\n<table border=\"1\" class=\"dataframe\">\n  <thead>\n    <tr style=\"text-align: right;\">\n      <th>test_id</th>\n      <th>1</th>\n      <th>2</th>\n      <th>3</th>\n      <th>4</th>\n      <th>5</th>\n      <th>6</th>\n      <th>7</th>\n      <th>8</th>\n      <th>9</th>\n      <th>10</th>\n      <th>...</th>\n      <th>458</th>\n      <th>459</th>\n      <th>460</th>\n      <th>461</th>\n      <th>462</th>\n      <th>463</th>\n      <th>464</th>\n      <th>465</th>\n      <th>466</th>\n      <th>467</th>\n    </tr>\n  </thead>\n  <tbody>\n    <tr>\n      <th>0</th>\n      <td>NaN</td>\n      <td>NaN</td>\n      <td>NaN</td>\n      <td>NaN</td>\n      <td>NaN</td>\n      <td>NaN</td>\n      <td>NaN</td>\n      <td>NaN</td>\n      <td>NaN</td>\n      <td>NaN</td>\n      <td>...</td>\n      <td>NaN</td>\n      <td>NaN</td>\n      <td>NaN</td>\n      <td>NaN</td>\n      <td>NaN</td>\n      <td>NaN</td>\n      <td>NaN</td>\n      <td>NaN</td>\n      <td>NaN</td>\n      <td>NaN</td>\n    </tr>\n    <tr>\n      <th>1</th>\n      <td>True</td>\n      <td>NaN</td>\n      <td>NaN</td>\n      <td>NaN</td>\n      <td>NaN</td>\n      <td>NaN</td>\n      <td>NaN</td>\n      <td>NaN</td>\n      <td>NaN</td>\n      <td>NaN</td>\n      <td>...</td>\n      <td>NaN</td>\n      <td>NaN</td>\n      <td>NaN</td>\n      <td>NaN</td>\n      <td>NaN</td>\n      <td>NaN</td>\n      <td>NaN</td>\n      <td>NaN</td>\n      <td>NaN</td>\n      <td>NaN</td>\n    </tr>\n    <tr>\n      <th>2</th>\n      <td>NaN</td>\n      <td>True</td>\n      <td>NaN</td>\n      <td>NaN</td>\n      <td>NaN</td>\n      <td>NaN</td>\n      <td>NaN</td>\n      <td>NaN</td>\n      <td>NaN</td>\n      <td>NaN</td>\n      <td>...</td>\n      <td>NaN</td>\n      <td>NaN</td>\n      <td>NaN</td>\n      <td>NaN</td>\n      <td>NaN</td>\n      <td>NaN</td>\n      <td>NaN</td>\n      <td>NaN</td>\n      <td>NaN</td>\n      <td>NaN</td>\n    </tr>\n    <tr>\n      <th>3</th>\n      <td>NaN</td>\n      <td>NaN</td>\n      <td>True</td>\n      <td>NaN</td>\n      <td>NaN</td>\n      <td>NaN</td>\n      <td>NaN</td>\n      <td>NaN</td>\n      <td>NaN</td>\n      <td>NaN</td>\n      <td>...</td>\n      <td>NaN</td>\n      <td>NaN</td>\n      <td>NaN</td>\n      <td>NaN</td>\n      <td>NaN</td>\n      <td>NaN</td>\n      <td>NaN</td>\n      <td>NaN</td>\n      <td>NaN</td>\n      <td>NaN</td>\n    </tr>\n    <tr>\n      <th>4</th>\n      <td>NaN</td>\n      <td>NaN</td>\n      <td>NaN</td>\n      <td>True</td>\n      <td>NaN</td>\n      <td>NaN</td>\n      <td>NaN</td>\n      <td>NaN</td>\n      <td>NaN</td>\n      <td>NaN</td>\n      <td>...</td>\n      <td>NaN</td>\n      <td>NaN</td>\n      <td>NaN</td>\n      <td>NaN</td>\n      <td>NaN</td>\n      <td>NaN</td>\n      <td>NaN</td>\n      <td>NaN</td>\n      <td>NaN</td>\n      <td>NaN</td>\n    </tr>\n    <tr>\n      <th>...</th>\n      <td>...</td>\n      <td>...</td>\n      <td>...</td>\n      <td>...</td>\n      <td>...</td>\n      <td>...</td>\n      <td>...</td>\n      <td>...</td>\n      <td>...</td>\n      <td>...</td>\n      <td>...</td>\n      <td>...</td>\n      <td>...</td>\n      <td>...</td>\n      <td>...</td>\n      <td>...</td>\n      <td>...</td>\n      <td>...</td>\n      <td>...</td>\n      <td>...</td>\n      <td>...</td>\n    </tr>\n    <tr>\n      <th>1867</th>\n      <td>NaN</td>\n      <td>NaN</td>\n      <td>NaN</td>\n      <td>NaN</td>\n      <td>NaN</td>\n      <td>NaN</td>\n      <td>NaN</td>\n      <td>NaN</td>\n      <td>NaN</td>\n      <td>NaN</td>\n      <td>...</td>\n      <td>NaN</td>\n      <td>NaN</td>\n      <td>NaN</td>\n      <td>NaN</td>\n      <td>NaN</td>\n      <td>True</td>\n      <td>NaN</td>\n      <td>NaN</td>\n      <td>NaN</td>\n      <td>NaN</td>\n    </tr>\n    <tr>\n      <th>1868</th>\n      <td>NaN</td>\n      <td>NaN</td>\n      <td>NaN</td>\n      <td>NaN</td>\n      <td>NaN</td>\n      <td>NaN</td>\n      <td>NaN</td>\n      <td>NaN</td>\n      <td>NaN</td>\n      <td>NaN</td>\n      <td>...</td>\n      <td>NaN</td>\n      <td>NaN</td>\n      <td>NaN</td>\n      <td>NaN</td>\n      <td>NaN</td>\n      <td>NaN</td>\n      <td>True</td>\n      <td>NaN</td>\n      <td>NaN</td>\n      <td>NaN</td>\n    </tr>\n    <tr>\n      <th>1869</th>\n      <td>NaN</td>\n      <td>NaN</td>\n      <td>NaN</td>\n      <td>NaN</td>\n      <td>NaN</td>\n      <td>NaN</td>\n      <td>NaN</td>\n      <td>NaN</td>\n      <td>NaN</td>\n      <td>NaN</td>\n      <td>...</td>\n      <td>NaN</td>\n      <td>NaN</td>\n      <td>NaN</td>\n      <td>NaN</td>\n      <td>NaN</td>\n      <td>NaN</td>\n      <td>NaN</td>\n      <td>True</td>\n      <td>NaN</td>\n      <td>NaN</td>\n    </tr>\n    <tr>\n      <th>1870</th>\n      <td>NaN</td>\n      <td>NaN</td>\n      <td>NaN</td>\n      <td>NaN</td>\n      <td>NaN</td>\n      <td>NaN</td>\n      <td>NaN</td>\n      <td>NaN</td>\n      <td>NaN</td>\n      <td>NaN</td>\n      <td>...</td>\n      <td>NaN</td>\n      <td>NaN</td>\n      <td>NaN</td>\n      <td>NaN</td>\n      <td>NaN</td>\n      <td>NaN</td>\n      <td>NaN</td>\n      <td>NaN</td>\n      <td>True</td>\n      <td>NaN</td>\n    </tr>\n    <tr>\n      <th>1871</th>\n      <td>NaN</td>\n      <td>NaN</td>\n      <td>NaN</td>\n      <td>NaN</td>\n      <td>NaN</td>\n      <td>NaN</td>\n      <td>NaN</td>\n      <td>NaN</td>\n      <td>NaN</td>\n      <td>NaN</td>\n      <td>...</td>\n      <td>NaN</td>\n      <td>NaN</td>\n      <td>NaN</td>\n      <td>NaN</td>\n      <td>NaN</td>\n      <td>NaN</td>\n      <td>NaN</td>\n      <td>NaN</td>\n      <td>NaN</td>\n      <td>True</td>\n    </tr>\n  </tbody>\n</table>\n<p>1872 rows × 467 columns</p>\n</div>"
     },
     "metadata": {},
     "output_type": "display_data"
    }
   ],
   "source": []
  },
  {
   "cell_type": "code",
   "execution_count": 79,
   "metadata": {},
   "outputs": [],
   "source": [
    "pivot = pivot.astype('bool')"
   ]
  },
  {
   "cell_type": "code",
   "execution_count": 6,
   "metadata": {},
   "outputs": [
    {
     "data": {
      "text/plain": "test_id  1    2    3    4    5    6    7    8    9    10   ...  458  459  460  \\\ntest_id                                                    ...                  \n1        0.0  0.0  0.0  0.0  0.0  0.0  0.0  0.0  0.0  0.0  ...  0.0  0.0  0.0   \n2        0.0  0.0  0.0  0.0  0.0  0.0  0.0  0.0  0.0  0.0  ...  0.0  0.0  0.0   \n3        0.0  0.0  0.0  0.0  0.0  0.0  0.0  0.0  0.0  0.0  ...  0.0  0.0  0.0   \n4        0.0  0.0  0.0  0.0  0.0  0.0  0.0  0.0  0.0  0.0  ...  0.0  0.0  0.0   \n5        0.0  0.0  0.0  0.0  0.0  0.0  0.0  0.0  0.0  0.0  ...  0.0  0.0  0.0   \n...      ...  ...  ...  ...  ...  ...  ...  ...  ...  ...  ...  ...  ...  ...   \n463      0.0  0.0  0.0  0.0  0.0  0.0  0.0  0.0  0.0  0.0  ...  0.0  0.0  0.0   \n464      0.0  0.0  0.0  0.0  0.0  0.0  0.0  0.0  0.0  0.0  ...  0.0  0.0  0.0   \n465      0.0  0.0  0.0  0.0  0.0  0.0  0.0  0.0  0.0  0.0  ...  0.0  0.0  0.0   \n466      0.0  0.0  0.0  0.0  0.0  0.0  0.0  0.0  0.0  0.0  ...  0.0  0.0  0.0   \n467      0.0  0.0  0.0  0.0  0.0  0.0  0.0  0.0  0.0  0.0  ...  0.0  0.0  0.0   \n\ntest_id  461  462  463  464  465  466  467  \ntest_id                                     \n1        0.0  0.0  0.0  0.0  0.0  0.0  0.0  \n2        0.0  0.0  0.0  0.0  0.0  0.0  0.0  \n3        0.0  0.0  0.0  0.0  0.0  0.0  0.0  \n4        0.0  0.0  0.0  0.0  0.0  0.0  0.0  \n5        0.0  0.0  0.0  0.0  0.0  0.0  0.0  \n...      ...  ...  ...  ...  ...  ...  ...  \n463      0.0  0.0  0.0  0.0  0.0  0.0  0.0  \n464      0.0  0.0  0.0  0.0  0.0  0.0  0.0  \n465      0.0  0.0  0.0  0.0  0.0  0.0  0.0  \n466      0.0  0.0  0.0  0.0  0.0  0.0  0.0  \n467      0.0  0.0  0.0  0.0  0.0  0.0  0.0  \n\n[467 rows x 467 columns]",
      "text/html": "<div>\n<style scoped>\n    .dataframe tbody tr th:only-of-type {\n        vertical-align: middle;\n    }\n\n    .dataframe tbody tr th {\n        vertical-align: top;\n    }\n\n    .dataframe thead th {\n        text-align: right;\n    }\n</style>\n<table border=\"1\" class=\"dataframe\">\n  <thead>\n    <tr style=\"text-align: right;\">\n      <th>test_id</th>\n      <th>1</th>\n      <th>2</th>\n      <th>3</th>\n      <th>4</th>\n      <th>5</th>\n      <th>6</th>\n      <th>7</th>\n      <th>8</th>\n      <th>9</th>\n      <th>10</th>\n      <th>...</th>\n      <th>458</th>\n      <th>459</th>\n      <th>460</th>\n      <th>461</th>\n      <th>462</th>\n      <th>463</th>\n      <th>464</th>\n      <th>465</th>\n      <th>466</th>\n      <th>467</th>\n    </tr>\n    <tr>\n      <th>test_id</th>\n      <th></th>\n      <th></th>\n      <th></th>\n      <th></th>\n      <th></th>\n      <th></th>\n      <th></th>\n      <th></th>\n      <th></th>\n      <th></th>\n      <th></th>\n      <th></th>\n      <th></th>\n      <th></th>\n      <th></th>\n      <th></th>\n      <th></th>\n      <th></th>\n      <th></th>\n      <th></th>\n      <th></th>\n    </tr>\n  </thead>\n  <tbody>\n    <tr>\n      <th>1</th>\n      <td>0.0</td>\n      <td>0.0</td>\n      <td>0.0</td>\n      <td>0.0</td>\n      <td>0.0</td>\n      <td>0.0</td>\n      <td>0.0</td>\n      <td>0.0</td>\n      <td>0.0</td>\n      <td>0.0</td>\n      <td>...</td>\n      <td>0.0</td>\n      <td>0.0</td>\n      <td>0.0</td>\n      <td>0.0</td>\n      <td>0.0</td>\n      <td>0.0</td>\n      <td>0.0</td>\n      <td>0.0</td>\n      <td>0.0</td>\n      <td>0.0</td>\n    </tr>\n    <tr>\n      <th>2</th>\n      <td>0.0</td>\n      <td>0.0</td>\n      <td>0.0</td>\n      <td>0.0</td>\n      <td>0.0</td>\n      <td>0.0</td>\n      <td>0.0</td>\n      <td>0.0</td>\n      <td>0.0</td>\n      <td>0.0</td>\n      <td>...</td>\n      <td>0.0</td>\n      <td>0.0</td>\n      <td>0.0</td>\n      <td>0.0</td>\n      <td>0.0</td>\n      <td>0.0</td>\n      <td>0.0</td>\n      <td>0.0</td>\n      <td>0.0</td>\n      <td>0.0</td>\n    </tr>\n    <tr>\n      <th>3</th>\n      <td>0.0</td>\n      <td>0.0</td>\n      <td>0.0</td>\n      <td>0.0</td>\n      <td>0.0</td>\n      <td>0.0</td>\n      <td>0.0</td>\n      <td>0.0</td>\n      <td>0.0</td>\n      <td>0.0</td>\n      <td>...</td>\n      <td>0.0</td>\n      <td>0.0</td>\n      <td>0.0</td>\n      <td>0.0</td>\n      <td>0.0</td>\n      <td>0.0</td>\n      <td>0.0</td>\n      <td>0.0</td>\n      <td>0.0</td>\n      <td>0.0</td>\n    </tr>\n    <tr>\n      <th>4</th>\n      <td>0.0</td>\n      <td>0.0</td>\n      <td>0.0</td>\n      <td>0.0</td>\n      <td>0.0</td>\n      <td>0.0</td>\n      <td>0.0</td>\n      <td>0.0</td>\n      <td>0.0</td>\n      <td>0.0</td>\n      <td>...</td>\n      <td>0.0</td>\n      <td>0.0</td>\n      <td>0.0</td>\n      <td>0.0</td>\n      <td>0.0</td>\n      <td>0.0</td>\n      <td>0.0</td>\n      <td>0.0</td>\n      <td>0.0</td>\n      <td>0.0</td>\n    </tr>\n    <tr>\n      <th>5</th>\n      <td>0.0</td>\n      <td>0.0</td>\n      <td>0.0</td>\n      <td>0.0</td>\n      <td>0.0</td>\n      <td>0.0</td>\n      <td>0.0</td>\n      <td>0.0</td>\n      <td>0.0</td>\n      <td>0.0</td>\n      <td>...</td>\n      <td>0.0</td>\n      <td>0.0</td>\n      <td>0.0</td>\n      <td>0.0</td>\n      <td>0.0</td>\n      <td>0.0</td>\n      <td>0.0</td>\n      <td>0.0</td>\n      <td>0.0</td>\n      <td>0.0</td>\n    </tr>\n    <tr>\n      <th>...</th>\n      <td>...</td>\n      <td>...</td>\n      <td>...</td>\n      <td>...</td>\n      <td>...</td>\n      <td>...</td>\n      <td>...</td>\n      <td>...</td>\n      <td>...</td>\n      <td>...</td>\n      <td>...</td>\n      <td>...</td>\n      <td>...</td>\n      <td>...</td>\n      <td>...</td>\n      <td>...</td>\n      <td>...</td>\n      <td>...</td>\n      <td>...</td>\n      <td>...</td>\n      <td>...</td>\n    </tr>\n    <tr>\n      <th>463</th>\n      <td>0.0</td>\n      <td>0.0</td>\n      <td>0.0</td>\n      <td>0.0</td>\n      <td>0.0</td>\n      <td>0.0</td>\n      <td>0.0</td>\n      <td>0.0</td>\n      <td>0.0</td>\n      <td>0.0</td>\n      <td>...</td>\n      <td>0.0</td>\n      <td>0.0</td>\n      <td>0.0</td>\n      <td>0.0</td>\n      <td>0.0</td>\n      <td>0.0</td>\n      <td>0.0</td>\n      <td>0.0</td>\n      <td>0.0</td>\n      <td>0.0</td>\n    </tr>\n    <tr>\n      <th>464</th>\n      <td>0.0</td>\n      <td>0.0</td>\n      <td>0.0</td>\n      <td>0.0</td>\n      <td>0.0</td>\n      <td>0.0</td>\n      <td>0.0</td>\n      <td>0.0</td>\n      <td>0.0</td>\n      <td>0.0</td>\n      <td>...</td>\n      <td>0.0</td>\n      <td>0.0</td>\n      <td>0.0</td>\n      <td>0.0</td>\n      <td>0.0</td>\n      <td>0.0</td>\n      <td>0.0</td>\n      <td>0.0</td>\n      <td>0.0</td>\n      <td>0.0</td>\n    </tr>\n    <tr>\n      <th>465</th>\n      <td>0.0</td>\n      <td>0.0</td>\n      <td>0.0</td>\n      <td>0.0</td>\n      <td>0.0</td>\n      <td>0.0</td>\n      <td>0.0</td>\n      <td>0.0</td>\n      <td>0.0</td>\n      <td>0.0</td>\n      <td>...</td>\n      <td>0.0</td>\n      <td>0.0</td>\n      <td>0.0</td>\n      <td>0.0</td>\n      <td>0.0</td>\n      <td>0.0</td>\n      <td>0.0</td>\n      <td>0.0</td>\n      <td>0.0</td>\n      <td>0.0</td>\n    </tr>\n    <tr>\n      <th>466</th>\n      <td>0.0</td>\n      <td>0.0</td>\n      <td>0.0</td>\n      <td>0.0</td>\n      <td>0.0</td>\n      <td>0.0</td>\n      <td>0.0</td>\n      <td>0.0</td>\n      <td>0.0</td>\n      <td>0.0</td>\n      <td>...</td>\n      <td>0.0</td>\n      <td>0.0</td>\n      <td>0.0</td>\n      <td>0.0</td>\n      <td>0.0</td>\n      <td>0.0</td>\n      <td>0.0</td>\n      <td>0.0</td>\n      <td>0.0</td>\n      <td>0.0</td>\n    </tr>\n    <tr>\n      <th>467</th>\n      <td>0.0</td>\n      <td>0.0</td>\n      <td>0.0</td>\n      <td>0.0</td>\n      <td>0.0</td>\n      <td>0.0</td>\n      <td>0.0</td>\n      <td>0.0</td>\n      <td>0.0</td>\n      <td>0.0</td>\n      <td>...</td>\n      <td>0.0</td>\n      <td>0.0</td>\n      <td>0.0</td>\n      <td>0.0</td>\n      <td>0.0</td>\n      <td>0.0</td>\n      <td>0.0</td>\n      <td>0.0</td>\n      <td>0.0</td>\n      <td>0.0</td>\n    </tr>\n  </tbody>\n</table>\n<p>467 rows × 467 columns</p>\n</div>"
     },
     "metadata": {},
     "output_type": "display_data"
    },
    {
     "data": {
      "text/plain": "<Figure size 288x288 with 1 Axes>",
      "image/png": "[encoded data removed]"
     },
     "metadata": {
      "needs_background": "light"
     },
     "output_type": "display_data"
    }
   ],
   "source": [
    "display(pivot.cov())\n",
    "\n",
    "plt.matshow(pivot.corr())\n",
    "plt.show()"
   ]
  },
  {
   "cell_type": "code",
   "execution_count": 75,
   "outputs": [
    {
     "data": {
      "text/plain": "      index  mutant_id                    current_line  line_number_changed  \\\n225     225        1.0          self.__name__ = None\\n                  9.0   \n226     226        1.0          self.__name__ = None\\n                  9.0   \n228     228        1.0          self.__name__ = None\\n                  9.0   \n311     311        1.0          self.__name__ = None\\n                  9.0   \n312     312        1.0          self.__name__ = None\\n                  9.0   \n...     ...        ...                             ...                  ...   \n2259   2259     2000.0         if index is not None:\\n                272.0   \n2260   2260     2000.0         if index is not None:\\n                272.0   \n2265   2265     2000.0         if index is not None:\\n                272.0   \n2310   2310     2000.0         if index is not None:\\n                272.0   \n2312   2312     2000.0         if index is not None:\\n                272.0   \n\n         modified_file_path previous_line  outcome  test_id  \\\n225     src/flask/config.py                  False      225   \n226     src/flask/config.py                  False      226   \n228     src/flask/config.py                  False      228   \n311     src/flask/config.py                  False      311   \n312     src/flask/config.py                  False      312   \n...                     ...           ...      ...      ...   \n2259  src/flask/json/tag.py                  False      387   \n2260  src/flask/json/tag.py                  False      388   \n2265  src/flask/json/tag.py                  False      393   \n2310  src/flask/json/tag.py                  False      438   \n2312  src/flask/json/tag.py                  False      440   \n\n                                              full_name  \\\n225                 tests/test_cli.py::test_load_dotenv   \n226                 tests/test_cli.py::test_dotenv_path   \n228     tests/test_cli.py::test_disable_dotenv_from_env   \n311   tests/test_helpers.py::TestStreaming::test_str...   \n312   tests/test_helpers.py::TestStreaming::test_str...   \n...                                                 ...   \n2259           tests/test_signals.py::test_flash_signal   \n2260  tests/test_signals.py::test_appcontext_tearing...   \n2265    tests/test_templating.py::test_standard_context   \n2310       tests/test_testing.py::test_full_url_request   \n2312  tests/test_testing.py::test_client_json_no_app...   \n\n                                                   name  \\\n225                                    test_load_dotenv   \n226                                    test_dotenv_path   \n228                        test_disable_dotenv_from_env   \n311          TestStreaming::test_streaming_with_context   \n312   TestStreaming::test_streaming_with_context_as_...   \n...                                                 ...   \n2259                                  test_flash_signal   \n2260                test_appcontext_tearing_down_signal   \n2265                              test_standard_context   \n2310                              test_full_url_request   \n2312                    test_client_json_no_app_context   \n\n                      filepath  duration  setup_outcome  setup_duration  \\\n225          tests/test_cli.py  0.000633          False        0.000215   \n226          tests/test_cli.py  0.000585          False        0.000194   \n228          tests/test_cli.py  0.000635          False        0.000225   \n311      tests/test_helpers.py  0.006654           True        0.002401   \n312      tests/test_helpers.py  0.005803           True        0.001810   \n...                        ...       ...            ...             ...   \n2259     tests/test_signals.py  0.000331          False        0.000105   \n2260     tests/test_signals.py  0.000322          False        0.000109   \n2265  tests/test_templating.py  0.005326           True        0.001742   \n2310     tests/test_testing.py  0.006260           True        0.002023   \n2312     tests/test_testing.py  0.000617          False        0.000198   \n\n     call_outcome  call_duration teardown_outcome  teardown_duration  \n225          None            NaN             None                NaN  \n226          None            NaN             None                NaN  \n228          None            NaN             None                NaN  \n311         False       0.001521             None                NaN  \n312         False       0.001634             None                NaN  \n...           ...            ...              ...                ...  \n2259         None            NaN             None                NaN  \n2260         None            NaN             None                NaN  \n2265        False       0.001544             None                NaN  \n2310        False       0.001687             None                NaN  \n2312         None            NaN             None                NaN  \n\n[105 rows x 18 columns]",
      "text/html": "<div>\n<style scoped>\n    .dataframe tbody tr th:only-of-type {\n        vertical-align: middle;\n    }\n\n    .dataframe tbody tr th {\n        vertical-align: top;\n    }\n\n    .dataframe thead th {\n        text-align: right;\n    }\n</style>\n<table border=\"1\" class=\"dataframe\">\n  <thead>\n    <tr style=\"text-align: right;\">\n      <th></th>\n      <th>index</th>\n      <th>mutant_id</th>\n      <th>current_line</th>\n      <th>line_number_changed</th>\n      <th>modified_file_path</th>\n      <th>previous_line</th>\n      <th>outcome</th>\n      <th>test_id</th>\n      <th>full_name</th>\n      <th>name</th>\n      <th>filepath</th>\n      <th>duration</th>\n      <th>setup_outcome</th>\n      <th>setup_duration</th>\n      <th>call_outcome</th>\n      <th>call_duration</th>\n      <th>teardown_outcome</th>\n      <th>teardown_duration</th>\n    </tr>\n  </thead>\n  <tbody>\n    <tr>\n      <th>225</th>\n      <td>225</td>\n      <td>1.0</td>\n      <td>self.__name__ = None\\n</td>\n      <td>9.0</td>\n      <td>src/flask/config.py</td>\n      <td></td>\n      <td>False</td>\n      <td>225</td>\n      <td>tests/test_cli.py::test_load_dotenv</td>\n      <td>test_load_dotenv</td>\n      <td>tests/test_cli.py</td>\n      <td>0.000633</td>\n      <td>False</td>\n      <td>0.000215</td>\n      <td>None</td>\n      <td>NaN</td>\n      <td>None</td>\n      <td>NaN</td>\n    </tr>\n    <tr>\n      <th>226</th>\n      <td>226</td>\n      <td>1.0</td>\n      <td>self.__name__ = None\\n</td>\n      <td>9.0</td>\n      <td>src/flask/config.py</td>\n      <td></td>\n      <td>False</td>\n      <td>226</td>\n      <td>tests/test_cli.py::test_dotenv_path</td>\n      <td>test_dotenv_path</td>\n      <td>tests/test_cli.py</td>\n      <td>0.000585</td>\n      <td>False</td>\n      <td>0.000194</td>\n      <td>None</td>\n      <td>NaN</td>\n      <td>None</td>\n      <td>NaN</td>\n    </tr>\n    <tr>\n      <th>228</th>\n      <td>228</td>\n      <td>1.0</td>\n      <td>self.__name__ = None\\n</td>\n      <td>9.0</td>\n      <td>src/flask/config.py</td>\n      <td></td>\n      <td>False</td>\n      <td>228</td>\n      <td>tests/test_cli.py::test_disable_dotenv_from_env</td>\n      <td>test_disable_dotenv_from_env</td>\n      <td>tests/test_cli.py</td>\n      <td>0.000635</td>\n      <td>False</td>\n      <td>0.000225</td>\n      <td>None</td>\n      <td>NaN</td>\n      <td>None</td>\n      <td>NaN</td>\n    </tr>\n    <tr>\n      <th>311</th>\n      <td>311</td>\n      <td>1.0</td>\n      <td>self.__name__ = None\\n</td>\n      <td>9.0</td>\n      <td>src/flask/config.py</td>\n      <td></td>\n      <td>False</td>\n      <td>311</td>\n      <td>tests/test_helpers.py::TestStreaming::test_str...</td>\n      <td>TestStreaming::test_streaming_with_context</td>\n      <td>tests/test_helpers.py</td>\n      <td>0.006654</td>\n      <td>True</td>\n      <td>0.002401</td>\n      <td>False</td>\n      <td>0.001521</td>\n      <td>None</td>\n      <td>NaN</td>\n    </tr>\n    <tr>\n      <th>312</th>\n      <td>312</td>\n      <td>1.0</td>\n      <td>self.__name__ = None\\n</td>\n      <td>9.0</td>\n      <td>src/flask/config.py</td>\n      <td></td>\n      <td>False</td>\n      <td>312</td>\n      <td>tests/test_helpers.py::TestStreaming::test_str...</td>\n      <td>TestStreaming::test_streaming_with_context_as_...</td>\n      <td>tests/test_helpers.py</td>\n      <td>0.005803</td>\n      <td>True</td>\n      <td>0.001810</td>\n      <td>False</td>\n      <td>0.001634</td>\n      <td>None</td>\n      <td>NaN</td>\n    </tr>\n    <tr>\n      <th>...</th>\n      <td>...</td>\n      <td>...</td>\n      <td>...</td>\n      <td>...</td>\n      <td>...</td>\n      <td>...</td>\n      <td>...</td>\n      <td>...</td>\n      <td>...</td>\n      <td>...</td>\n      <td>...</td>\n      <td>...</td>\n      <td>...</td>\n      <td>...</td>\n      <td>...</td>\n      <td>...</td>\n      <td>...</td>\n      <td>...</td>\n    </tr>\n    <tr>\n      <th>2259</th>\n      <td>2259</td>\n      <td>2000.0</td>\n      <td>if index is not None:\\n</td>\n      <td>272.0</td>\n      <td>src/flask/json/tag.py</td>\n      <td></td>\n      <td>False</td>\n      <td>387</td>\n      <td>tests/test_signals.py::test_flash_signal</td>\n      <td>test_flash_signal</td>\n      <td>tests/test_signals.py</td>\n      <td>0.000331</td>\n      <td>False</td>\n      <td>0.000105</td>\n      <td>None</td>\n      <td>NaN</td>\n      <td>None</td>\n      <td>NaN</td>\n    </tr>\n    <tr>\n      <th>2260</th>\n      <td>2260</td>\n      <td>2000.0</td>\n      <td>if index is not None:\\n</td>\n      <td>272.0</td>\n      <td>src/flask/json/tag.py</td>\n      <td></td>\n      <td>False</td>\n      <td>388</td>\n      <td>tests/test_signals.py::test_appcontext_tearing...</td>\n      <td>test_appcontext_tearing_down_signal</td>\n      <td>tests/test_signals.py</td>\n      <td>0.000322</td>\n      <td>False</td>\n      <td>0.000109</td>\n      <td>None</td>\n      <td>NaN</td>\n      <td>None</td>\n      <td>NaN</td>\n    </tr>\n    <tr>\n      <th>2265</th>\n      <td>2265</td>\n      <td>2000.0</td>\n      <td>if index is not None:\\n</td>\n      <td>272.0</td>\n      <td>src/flask/json/tag.py</td>\n      <td></td>\n      <td>False</td>\n      <td>393</td>\n      <td>tests/test_templating.py::test_standard_context</td>\n      <td>test_standard_context</td>\n      <td>tests/test_templating.py</td>\n      <td>0.005326</td>\n      <td>True</td>\n      <td>0.001742</td>\n      <td>False</td>\n      <td>0.001544</td>\n      <td>None</td>\n      <td>NaN</td>\n    </tr>\n    <tr>\n      <th>2310</th>\n      <td>2310</td>\n      <td>2000.0</td>\n      <td>if index is not None:\\n</td>\n      <td>272.0</td>\n      <td>src/flask/json/tag.py</td>\n      <td></td>\n      <td>False</td>\n      <td>438</td>\n      <td>tests/test_testing.py::test_full_url_request</td>\n      <td>test_full_url_request</td>\n      <td>tests/test_testing.py</td>\n      <td>0.006260</td>\n      <td>True</td>\n      <td>0.002023</td>\n      <td>False</td>\n      <td>0.001687</td>\n      <td>None</td>\n      <td>NaN</td>\n    </tr>\n    <tr>\n      <th>2312</th>\n      <td>2312</td>\n      <td>2000.0</td>\n      <td>if index is not None:\\n</td>\n      <td>272.0</td>\n      <td>src/flask/json/tag.py</td>\n      <td></td>\n      <td>False</td>\n      <td>440</td>\n      <td>tests/test_testing.py::test_client_json_no_app...</td>\n      <td>test_client_json_no_app_context</td>\n      <td>tests/test_testing.py</td>\n      <td>0.000617</td>\n      <td>False</td>\n      <td>0.000198</td>\n      <td>None</td>\n      <td>NaN</td>\n      <td>None</td>\n      <td>NaN</td>\n    </tr>\n  </tbody>\n</table>\n<p>105 rows × 18 columns</p>\n</div>"
     },
     "metadata": {},
     "output_type": "display_data"
    },
    {
     "data": {
      "text/plain": "test_id  0    1    2    3    4    5    6    7    8    9    ...  458  459  460  \\\ntest_id                                                    ...                  \n0        NaN  NaN  NaN  NaN  NaN  NaN  NaN  NaN  NaN  NaN  ...  NaN  NaN  NaN   \n1        NaN  NaN  NaN  NaN  NaN  NaN  NaN  NaN  NaN  NaN  ...  NaN  NaN  NaN   \n2        NaN  NaN  NaN  NaN  NaN  NaN  NaN  NaN  NaN  NaN  ...  NaN  NaN  NaN   \n3        NaN  NaN  NaN  NaN  NaN  NaN  NaN  NaN  NaN  NaN  ...  NaN  NaN  NaN   \n4        NaN  NaN  NaN  NaN  NaN  NaN  NaN  NaN  NaN  NaN  ...  NaN  NaN  NaN   \n...      ...  ...  ...  ...  ...  ...  ...  ...  ...  ...  ...  ...  ...  ...   \n463      NaN  NaN  NaN  NaN  NaN  NaN  NaN  NaN  NaN  NaN  ...  NaN  NaN  NaN   \n464      NaN  NaN  NaN  NaN  NaN  NaN  NaN  NaN  NaN  NaN  ...  NaN  NaN  NaN   \n465      NaN  NaN  NaN  NaN  NaN  NaN  NaN  NaN  NaN  NaN  ...  NaN  NaN  NaN   \n466      NaN  NaN  NaN  NaN  NaN  NaN  NaN  NaN  NaN  NaN  ...  NaN  NaN  NaN   \n467      NaN  NaN  NaN  NaN  NaN  NaN  NaN  NaN  NaN  NaN  ...  NaN  NaN  NaN   \n\ntest_id  461  462  463  464  465  466  467  \ntest_id                                     \n0        NaN  NaN  NaN  NaN  NaN  NaN  NaN  \n1        NaN  NaN  NaN  NaN  NaN  NaN  NaN  \n2        NaN  NaN  NaN  NaN  NaN  NaN  NaN  \n3        NaN  NaN  NaN  NaN  NaN  NaN  NaN  \n4        NaN  NaN  NaN  NaN  NaN  NaN  NaN  \n...      ...  ...  ...  ...  ...  ...  ...  \n463      NaN  NaN  NaN  NaN  NaN  NaN  NaN  \n464      NaN  NaN  NaN  NaN  NaN  NaN  NaN  \n465      NaN  NaN  NaN  NaN  NaN  NaN  NaN  \n466      NaN  NaN  NaN  NaN  NaN  NaN  NaN  \n467      NaN  NaN  NaN  NaN  NaN  NaN  NaN  \n\n[468 rows x 468 columns]",
      "text/html": "<div>\n<style scoped>\n    .dataframe tbody tr th:only-of-type {\n        vertical-align: middle;\n    }\n\n    .dataframe tbody tr th {\n        vertical-align: top;\n    }\n\n    .dataframe thead th {\n        text-align: right;\n    }\n</style>\n<table border=\"1\" class=\"dataframe\">\n  <thead>\n    <tr style=\"text-align: right;\">\n      <th>test_id</th>\n      <th>0</th>\n      <th>1</th>\n      <th>2</th>\n      <th>3</th>\n      <th>4</th>\n      <th>5</th>\n      <th>6</th>\n      <th>7</th>\n      <th>8</th>\n      <th>9</th>\n      <th>...</th>\n      <th>458</th>\n      <th>459</th>\n      <th>460</th>\n      <th>461</th>\n      <th>462</th>\n      <th>463</th>\n      <th>464</th>\n      <th>465</th>\n      <th>466</th>\n      <th>467</th>\n    </tr>\n    <tr>\n      <th>test_id</th>\n      <th></th>\n      <th></th>\n      <th></th>\n      <th></th>\n      <th></th>\n      <th></th>\n      <th></th>\n      <th></th>\n      <th></th>\n      <th></th>\n      <th></th>\n      <th></th>\n      <th></th>\n      <th></th>\n      <th></th>\n      <th></th>\n      <th></th>\n      <th></th>\n      <th></th>\n      <th></th>\n      <th></th>\n    </tr>\n  </thead>\n  <tbody>\n    <tr>\n      <th>0</th>\n      <td>NaN</td>\n      <td>NaN</td>\n      <td>NaN</td>\n      <td>NaN</td>\n      <td>NaN</td>\n      <td>NaN</td>\n      <td>NaN</td>\n      <td>NaN</td>\n      <td>NaN</td>\n      <td>NaN</td>\n      <td>...</td>\n      <td>NaN</td>\n      <td>NaN</td>\n      <td>NaN</td>\n      <td>NaN</td>\n      <td>NaN</td>\n      <td>NaN</td>\n      <td>NaN</td>\n      <td>NaN</td>\n      <td>NaN</td>\n      <td>NaN</td>\n    </tr>\n    <tr>\n      <th>1</th>\n      <td>NaN</td>\n      <td>NaN</td>\n      <td>NaN</td>\n      <td>NaN</td>\n      <td>NaN</td>\n      <td>NaN</td>\n      <td>NaN</td>\n      <td>NaN</td>\n      <td>NaN</td>\n      <td>NaN</td>\n      <td>...</td>\n      <td>NaN</td>\n      <td>NaN</td>\n      <td>NaN</td>\n      <td>NaN</td>\n      <td>NaN</td>\n      <td>NaN</td>\n      <td>NaN</td>\n      <td>NaN</td>\n      <td>NaN</td>\n      <td>NaN</td>\n    </tr>\n    <tr>\n      <th>2</th>\n      <td>NaN</td>\n      <td>NaN</td>\n      <td>NaN</td>\n      <td>NaN</td>\n      <td>NaN</td>\n      <td>NaN</td>\n      <td>NaN</td>\n      <td>NaN</td>\n      <td>NaN</td>\n      <td>NaN</td>\n      <td>...</td>\n      <td>NaN</td>\n      <td>NaN</td>\n      <td>NaN</td>\n      <td>NaN</td>\n      <td>NaN</td>\n      <td>NaN</td>\n      <td>NaN</td>\n      <td>NaN</td>\n      <td>NaN</td>\n      <td>NaN</td>\n    </tr>\n    <tr>\n      <th>3</th>\n      <td>NaN</td>\n      <td>NaN</td>\n      <td>NaN</td>\n      <td>NaN</td>\n      <td>NaN</td>\n      <td>NaN</td>\n      <td>NaN</td>\n      <td>NaN</td>\n      <td>NaN</td>\n      <td>NaN</td>\n      <td>...</td>\n      <td>NaN</td>\n      <td>NaN</td>\n      <td>NaN</td>\n      <td>NaN</td>\n      <td>NaN</td>\n      <td>NaN</td>\n      <td>NaN</td>\n      <td>NaN</td>\n      <td>NaN</td>\n      <td>NaN</td>\n    </tr>\n    <tr>\n      <th>4</th>\n      <td>NaN</td>\n      <td>NaN</td>\n      <td>NaN</td>\n      <td>NaN</td>\n      <td>NaN</td>\n      <td>NaN</td>\n      <td>NaN</td>\n      <td>NaN</td>\n      <td>NaN</td>\n      <td>NaN</td>\n      <td>...</td>\n      <td>NaN</td>\n      <td>NaN</td>\n      <td>NaN</td>\n      <td>NaN</td>\n      <td>NaN</td>\n      <td>NaN</td>\n      <td>NaN</td>\n      <td>NaN</td>\n      <td>NaN</td>\n      <td>NaN</td>\n    </tr>\n    <tr>\n      <th>...</th>\n      <td>...</td>\n      <td>...</td>\n      <td>...</td>\n      <td>...</td>\n      <td>...</td>\n      <td>...</td>\n      <td>...</td>\n      <td>...</td>\n      <td>...</td>\n      <td>...</td>\n      <td>...</td>\n      <td>...</td>\n      <td>...</td>\n      <td>...</td>\n      <td>...</td>\n      <td>...</td>\n      <td>...</td>\n      <td>...</td>\n      <td>...</td>\n      <td>...</td>\n      <td>...</td>\n    </tr>\n    <tr>\n      <th>463</th>\n      <td>NaN</td>\n      <td>NaN</td>\n      <td>NaN</td>\n      <td>NaN</td>\n      <td>NaN</td>\n      <td>NaN</td>\n      <td>NaN</td>\n      <td>NaN</td>\n      <td>NaN</td>\n      <td>NaN</td>\n      <td>...</td>\n      <td>NaN</td>\n      <td>NaN</td>\n      <td>NaN</td>\n      <td>NaN</td>\n      <td>NaN</td>\n      <td>NaN</td>\n      <td>NaN</td>\n      <td>NaN</td>\n      <td>NaN</td>\n      <td>NaN</td>\n    </tr>\n    <tr>\n      <th>464</th>\n      <td>NaN</td>\n      <td>NaN</td>\n      <td>NaN</td>\n      <td>NaN</td>\n      <td>NaN</td>\n      <td>NaN</td>\n      <td>NaN</td>\n      <td>NaN</td>\n      <td>NaN</td>\n      <td>NaN</td>\n      <td>...</td>\n      <td>NaN</td>\n      <td>NaN</td>\n      <td>NaN</td>\n      <td>NaN</td>\n      <td>NaN</td>\n      <td>NaN</td>\n      <td>NaN</td>\n      <td>NaN</td>\n      <td>NaN</td>\n      <td>NaN</td>\n    </tr>\n    <tr>\n      <th>465</th>\n      <td>NaN</td>\n      <td>NaN</td>\n      <td>NaN</td>\n      <td>NaN</td>\n      <td>NaN</td>\n      <td>NaN</td>\n      <td>NaN</td>\n      <td>NaN</td>\n      <td>NaN</td>\n      <td>NaN</td>\n      <td>...</td>\n      <td>NaN</td>\n      <td>NaN</td>\n      <td>NaN</td>\n      <td>NaN</td>\n      <td>NaN</td>\n      <td>NaN</td>\n      <td>NaN</td>\n      <td>NaN</td>\n      <td>NaN</td>\n      <td>NaN</td>\n    </tr>\n    <tr>\n      <th>466</th>\n      <td>NaN</td>\n      <td>NaN</td>\n      <td>NaN</td>\n      <td>NaN</td>\n      <td>NaN</td>\n      <td>NaN</td>\n      <td>NaN</td>\n      <td>NaN</td>\n      <td>NaN</td>\n      <td>NaN</td>\n      <td>...</td>\n      <td>NaN</td>\n      <td>NaN</td>\n      <td>NaN</td>\n      <td>NaN</td>\n      <td>NaN</td>\n      <td>NaN</td>\n      <td>NaN</td>\n      <td>NaN</td>\n      <td>NaN</td>\n      <td>NaN</td>\n    </tr>\n    <tr>\n      <th>467</th>\n      <td>NaN</td>\n      <td>NaN</td>\n      <td>NaN</td>\n      <td>NaN</td>\n      <td>NaN</td>\n      <td>NaN</td>\n      <td>NaN</td>\n      <td>NaN</td>\n      <td>NaN</td>\n      <td>NaN</td>\n      <td>...</td>\n      <td>NaN</td>\n      <td>NaN</td>\n      <td>NaN</td>\n      <td>NaN</td>\n      <td>NaN</td>\n      <td>NaN</td>\n      <td>NaN</td>\n      <td>NaN</td>\n      <td>NaN</td>\n      <td>NaN</td>\n    </tr>\n  </tbody>\n</table>\n<p>468 rows × 468 columns</p>\n</div>"
     },
     "metadata": {},
     "output_type": "display_data"
    },
    {
     "data": {
      "text/plain": "<Figure size 288x288 with 1 Axes>",
      "image/png": "[encoded data removed]"
     },
     "metadata": {
      "needs_background": "light"
     },
     "output_type": "display_data"
    }
   ],
   "source": [
    "mutants_and_tests = pd.read_pickle('20200604-141344_joined_data.pkl').reset_index()\n",
    "display(mutants_and_tests.loc[mutants_and_tests['outcome'] == False])\n",
    "pivot = mutants_and_tests.reset_index().pivot(index='mutant_id', columns='test_id', values='outcome')\n",
    "# pivot.drop(pivot.columns[0], axis=1, inplace=True)\n",
    "display(pivot.cov(min_periods=12))\n",
    "plt.matshow(pivot.cov())\n",
    "plt.show()"
   ],
   "metadata": {
    "collapsed": false,
    "pycharm": {
     "name": "#%%\n"
    }
   }
  }
 ],
 "metadata": {
  "kernelspec": {
   "display_name": "PyCharm (CRM)",
   "language": "python",
   "name": "pycharm-916943d2"
  },
  "language_info": {
   "codemirror_mode": {
    "name": "ipython",
    "version": 3
   },
   "file_extension": ".py",
   "mimetype": "text/x-python",
   "name": "python",
   "nbconvert_exporter": "python",
   "pygments_lexer": "ipython3",
   "version": "3.8.3"
  }
 },
 "nbformat": 4,
 "nbformat_minor": 4
}